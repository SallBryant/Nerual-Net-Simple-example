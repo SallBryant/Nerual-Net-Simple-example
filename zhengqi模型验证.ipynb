{
  "nbformat": 4,
  "nbformat_minor": 0,
  "metadata": {
    "colab": {
      "name": "zhengqi模型验证",
      "provenance": [],
      "authorship_tag": "ABX9TyNWP1X//tp57Ygg+pVVXkIU",
      "include_colab_link": true
    },
    "kernelspec": {
      "name": "python3",
      "display_name": "Python 3"
    },
    "language_info": {
      "name": "python"
    }
  },
  "cells": [
    {
      "cell_type": "markdown",
      "metadata": {
        "id": "view-in-github",
        "colab_type": "text"
      },
      "source": [
        "<a href=\"https://colab.research.google.com/github/SallBryant/Nerual-Net-Simple-example/blob/main/zhengqi%E6%A8%A1%E5%9E%8B%E9%AA%8C%E8%AF%81.ipynb\" target=\"_parent\"><img src=\"https://colab.research.google.com/assets/colab-badge.svg\" alt=\"Open In Colab\"/></a>"
      ]
    },
    {
      "cell_type": "code",
      "execution_count": 1,
      "metadata": {
        "id": "uoEzr5IAQziP"
      },
      "outputs": [],
      "source": [
        "import numpy as np\n",
        "import matplotlib.pyplot as plt\n",
        "%matplotlib inline\n"
      ]
    },
    {
      "cell_type": "code",
      "source": [
        "np.random.seed(666)\n",
        "x =np.random.uniform(-3.0, 3.0, size=100)\n",
        "X=x.reshape(-1,1)\n",
        "\n",
        "y = 0.5 * x**2 + x + 2 + np.random.normal(0, 1, size=100)\n",
        "\n",
        "plt.scatter(x,y)\n",
        "plt.show()"
      ],
      "metadata": {
        "colab": {
          "base_uri": "https://localhost:8080/",
          "height": 266
        },
        "id": "k_UbQcT4BOh2",
        "outputId": "c48896da-109e-4fac-e948-c9c27dabed9f"
      },
      "execution_count": 2,
      "outputs": [
        {
          "output_type": "display_data",
          "data": {
            "text/plain": [
              "<Figure size 432x288 with 1 Axes>"
            ],
            "image/png": "[encoded data removed]"
          },
          "metadata": {
            "needs_background": "light"
          }
        }
      ]
    },
    {
      "cell_type": "code",
      "source": [
        "from sklearn.linear_model import LinearRegression\n",
        "\n",
        "lin_reg=LinearRegression()\n",
        "lin_reg.fit(X,y)\n",
        "lin_reg.score(X,y)"
      ],
      "metadata": {
        "colab": {
          "base_uri": "https://localhost:8080/"
        },
        "id": "f_fj8h-fBl18",
        "outputId": "3ffa848c-6760-4199-979d-2974f6d6b529"
      },
      "execution_count": 3,
      "outputs": [
        {
          "output_type": "execute_result",
          "data": {
            "text/plain": [
              "0.4953707811865009"
            ]
          },
          "metadata": {},
          "execution_count": 3
        }
      ]
    },
    {
      "cell_type": "code",
      "source": [
        "from sklearn.metrics import mean_squared_error\n",
        "\n",
        "y_predict=lin_reg.predict(X)\n",
        "mean_squared_error(y,y_predict)"
      ],
      "metadata": {
        "colab": {
          "base_uri": "https://localhost:8080/"
        },
        "id": "VIG0_HeODKd9",
        "outputId": "4dfa6f65-d507-49d1-c84a-0a2d6040a3c0"
      },
      "execution_count": 4,
      "outputs": [
        {
          "output_type": "execute_result",
          "data": {
            "text/plain": [
              "3.0750025765636577"
            ]
          },
          "metadata": {},
          "execution_count": 4
        }
      ]
    },
    {
      "cell_type": "code",
      "source": [
        "plt.scatter(x,y)\n",
        "plt.plot(np.sort(x),y_predict[np.argsort(x)],color='r')"
      ],
      "metadata": {
        "id": "lQxlDMEQvPv_",
        "colab": {
          "base_uri": "https://localhost:8080/",
          "height": 284
        },
        "outputId": "40f663de-5255-40f8-871a-9b0d1148a035"
      },
      "execution_count": 6,
      "outputs": [
        {
          "output_type": "execute_result",
          "data": {
            "text/plain": [
              "[<matplotlib.lines.Line2D at 0x7f20abba8450>]"
            ]
          },
          "metadata": {},
          "execution_count": 6
        },
        {
          "output_type": "display_data",
          "data": {
            "text/plain": [
              "<Figure size 432x288 with 1 Axes>"
            ],
            "image/png": "[encoded data removed]"
          },
          "metadata": {
            "needs_background": "light"
          }
        }
      ]
    },
    {
      "cell_type": "code",
      "source": [
        "from sklearn.pipeline import Pipeline\n",
        "from sklearn.preprocessing import PolynomialFeatures\n",
        "from sklearn.preprocessing import StandardScaler\n",
        "\n",
        "def PolynomialRegression(degree):\n",
        "  return Pipeline([\n",
        "    ('poly', PolynomialFeatures(degree=degree)),\n",
        "    ('std_scaler', StandardScaler()),\n",
        "    ('lin_reg', LinearRegression())             \n",
        "  ])\n",
        "\n",
        "poly2_reg = PolynomialRegression(degree=2)\n",
        "poly2_reg.fit(X, y)\n",
        "\n",
        "y2_predict = poly2_reg.predict(X)\n",
        "\n",
        "mean_squared_error(y, y2_predict)"
      ],
      "metadata": {
        "colab": {
          "base_uri": "https://localhost:8080/"
        },
        "id": "KgGo-Dvi9kF0",
        "outputId": "0d53c3e6-c333-4e5d-d977-0d42a6d2c3bf"
      },
      "execution_count": 9,
      "outputs": [
        {
          "output_type": "execute_result",
          "data": {
            "text/plain": [
              "1.0987392142417856"
            ]
          },
          "metadata": {},
          "execution_count": 9
        }
      ]
    },
    {
      "cell_type": "code",
      "source": [
        "plt.scatter(x, y)\n",
        "plt.plot(np.sort(x), y2_predict[np.argsort(x)], color='r')\n",
        "plt.show()"
      ],
      "metadata": {
        "colab": {
          "base_uri": "https://localhost:8080/",
          "height": 266
        },
        "id": "uVoQ3BBH-qSW",
        "outputId": "5dcb6f10-8ace-45fd-a8c3-6e341b942fcd"
      },
      "execution_count": 10,
      "outputs": [
        {
          "output_type": "display_data",
          "data": {
            "text/plain": [
              "<Figure size 432x288 with 1 Axes>"
            ],
            "image/png": "[encoded data removed]"
          },
          "metadata": {
            "needs_background": "light"
          }
        }
      ]
    },
    {
      "cell_type": "code",
      "source": [
        "poly100_reg = PolynomialRegression(degree=100)\n",
        "poly100_reg.fit(X, y)\n",
        "\n",
        "y100_predict = poly100_reg.predict(X)\n",
        "\n",
        "mean_squared_error(y, y100_predict)\n",
        "\n",
        "plt.scatter(x, y)\n",
        "plt.plot(np.sort(x), y100_predict[np.argsort(x)], color='r')\n",
        "plt.show()"
      ],
      "metadata": {
        "colab": {
          "base_uri": "https://localhost:8080/",
          "height": 265
        },
        "id": "48XKwykC-xN_",
        "outputId": "e459f1b6-0c3e-4ce0-e65b-3366189400a4"
      },
      "execution_count": 11,
      "outputs": [
        {
          "output_type": "display_data",
          "data": {
            "text/plain": [
              "<Figure size 432x288 with 1 Axes>"
            ],
            "image/png": "[encoded data removed]"
          },
          "metadata": {
            "needs_background": "light"
          }
        }
      ]
    },
    {
      "cell_type": "markdown",
      "source": [
        "degree=2：均方误差为 1.0987392142417856；\n",
        "degree=10：均方误差为 1.0508466763764164；\n",
        "degree=100：均方误差为 0.6874357783433694；\n",
        "degree 越大拟合的效果越好，因为样本点是一定的，我们总能找到一条曲线将所有的样本点拟合，也就是说将所有的样本点都完全落在这根曲线上，使得整体的均方误差为 0；\n",
        "红色曲线并不是所计算出的拟合曲线，而此红色曲线只是原有的数据点对应的 y 的预测值连接出来的结果，而且有的地方没有数据点，因此连接的结果和原来的曲线不一样；"
      ],
      "metadata": {
        "id": "n2Tw5m0E_R1n"
      }
    },
    {
      "cell_type": "code",
      "source": [
        "from sklearn.model_selection import train_test_split,cross_val_score,cross_validate # 交叉验证所需的函数\n",
        "from sklearn.model_selection import KFold,LeaveOneOut,LeavePOut,ShuffleSplit # 交叉验证所需的子集划分方法\n",
        "from sklearn.model_selection import StratifiedKFold,StratifiedShuffleSplit # 分层分割\n",
        "from sklearn.model_selection import GroupKFold,LeaveOneGroupOut,LeavePGroupsOut,GroupShuffleSplit # 分组分割\n",
        "from sklearn.model_selection import TimeSeriesSplit # 时间序列分割\n",
        "from sklearn import datasets  # 自带数据集\n",
        "from sklearn import svm  # SVM算法\n",
        "from sklearn import preprocessing  # 预处理模块\n",
        "from sklearn.metrics import recall_score  # 模型度量"
      ],
      "metadata": {
        "id": "jsR7juX1_TJu"
      },
      "execution_count": 12,
      "outputs": []
    },
    {
      "cell_type": "code",
      "source": [
        "iris=datasets.load_iris()\n",
        "print('样本集大小：',iris.data.shape,iris.target.shape)\n",
        "\n",
        "#模型划分，训练模型\n",
        "X_train,X_test,y_train,y_test=train_test_split(iris.data,iris.target,test_size=0.4,random_state=0)\n",
        "print('训练集大小：',X_train.shape,y_train.shape)\n",
        "print('测试集大小：',X_test.shape,y_test.shape)\n",
        "\n",
        "clf = svm.SVC(kernel='linear', C=1).fit(X_train, y_train) # 使用训练集训练模型\n",
        "print('准确率：',clf.score(X_test, y_test))  # 计算测试集的度量值（准确率）\n",
        "\n",
        "#  如果涉及到归一化，则在测试集上也要使用训练集模型提取的归一化函数。\n",
        "scaler = preprocessing.StandardScaler().fit(X_train)  # 通过训练集获得归一化函数模型。（也就是先减几，再除以几的函数）。在训练集和测试集上都使用这个归一化函数\n",
        "X_train_transformed = scaler.transform(X_train)\n",
        "X_test_transformed = scaler.transform(X_test)\n",
        "print(clf.score(X_test_transformed, y_test)) # 计算测试集的度量值（准确度）\n",
        "\n",
        "# ===================================直接调用交叉验证评估模型==========================\n",
        "clf = svm.SVC(kernel='linear', C=1)\n",
        "scores = cross_val_score(clf, iris.data, iris.target, cv=5)  #cv为迭代次数。\n",
        "print(scores)  # 打印输出每次迭代的度量值（准确度）\n",
        "print(\"Accuracy: %0.2f (+/- %0.2f)\" % (scores.mean(), scores.std() * 2))  # 获取置信区间。（也就是均值和方差）\n",
        "\n",
        "# ===================================多种度量结果======================================\n",
        "scoring = ['precision_macro', 'recall_macro'] # precision_macro为精度，recall_macro为召回率\n",
        "scores = cross_validate(clf, iris.data, iris.target, scoring=scoring,cv=5, return_train_score=True)\n",
        "sorted(scores.keys())\n",
        "print('测试结果：',scores)  # scores类型为字典。包含训练得分，拟合次数， score-times （得分次数）"
      ],
      "metadata": {
        "colab": {
          "base_uri": "https://localhost:8080/"
        },
        "id": "bn_vnLVBCOXA",
        "outputId": "e80a6a7d-f061-4bfd-ad8c-6dc4f4787f8b"
      },
      "execution_count": 19,
      "outputs": [
        {
          "output_type": "stream",
          "name": "stdout",
          "text": [
            "样本集大小： (150, 4) (150,)\n",
            "训练集大小： (90, 4) (90,)\n",
            "测试集大小： (60, 4) (60,)\n",
            "准确率： 0.9666666666666667\n",
            "0.2833333333333333\n",
            "[0.96666667 1.         0.96666667 0.96666667 1.        ]\n",
            "Accuracy: 0.98 (+/- 0.03)\n",
            "测试结果： {'fit_time': array([0.00066447, 0.00071311, 0.00065732, 0.00073147, 0.00099921]), 'score_time': array([0.00169134, 0.00145316, 0.00179696, 0.00152087, 0.00183082]), 'test_precision_macro': array([0.96969697, 1.        , 0.96969697, 0.96969697, 1.        ]), 'train_precision_macro': array([0.97674419, 0.97674419, 0.99186992, 0.98412698, 0.98333333]), 'test_recall_macro': array([0.96666667, 1.        , 0.96666667, 0.96666667, 1.        ]), 'train_recall_macro': array([0.975     , 0.975     , 0.99166667, 0.98333333, 0.98333333])}\n"
          ]
        }
      ]
    },
    {
      "cell_type": "code",
      "source": [
        "# ==================================K折交叉验证、留一交叉验证、留p交叉验证、随机排列交叉验证==========================================\n",
        "# k折划分子集\n",
        "kf = KFold(n_splits=2)\n",
        "for train, test in kf.split(iris.data):\n",
        "    print(\"k折划分：%s %s\" % (train.shape, test.shape))\n",
        "    break\n",
        "\n",
        "# 留一划分子集\n",
        "loo = LeaveOneOut()\n",
        "for train, test in loo.split(iris.data):\n",
        "    print(\"留一划分：%s %s\" % (train.shape, test.shape))\n",
        "    break\n",
        "\n",
        "# 留p划分子集\n",
        "lpo = LeavePOut(p=2)\n",
        "for train, test in loo.split(iris.data):\n",
        "    print(\"留p划分：%s %s\" % (train.shape, test.shape))\n",
        "    break\n",
        "\n",
        "# 随机排列划分子集\n",
        "ss = ShuffleSplit(n_splits=3, test_size=0.25,random_state=0)\n",
        "for train_index, test_index in ss.split(iris.data):\n",
        "    print(\"随机排列划分：%s %s\" % (train.shape, test.shape))\n",
        "    break\n",
        "\n",
        "# ==================================分层K折交叉验证、分层随机交叉验证==========================================\n",
        "skf = StratifiedKFold(n_splits=3)  #各个类别的比例大致和完整数据集中相同\n",
        "for train, test in skf.split(iris.data, iris.target):\n",
        "    print(\"分层K折划分：%s %s\" % (train.shape, test.shape))\n",
        "    break\n",
        "\n",
        "skf = StratifiedShuffleSplit(n_splits=3)  # 划分中每个类的比例和完整数据集中的相同\n",
        "for train, test in skf.split(iris.data, iris.target):\n",
        "    print(\"分层随机划分：%s %s\" % (train.shape, test.shape))\n",
        "    break\n"
      ],
      "metadata": {
        "colab": {
          "base_uri": "https://localhost:8080/"
        },
        "id": "Kutxxa1DCgFG",
        "outputId": "a2889a8d-3522-4e17-acc6-29341b476777"
      },
      "execution_count": 21,
      "outputs": [
        {
          "output_type": "stream",
          "name": "stdout",
          "text": [
            "k折划分：(75,) (75,)\n",
            "留一划分：(149,) (1,)\n",
            "留p划分：(149,) (1,)\n",
            "随机排列划分：(149,) (1,)\n",
            "分层K折划分：(100,) (50,)\n",
            "分层随机划分：(135,) (15,)\n"
          ]
        }
      ]
    },
    {
      "cell_type": "code",
      "source": [
        "# ==================================组 k-fold交叉验证、留一组交叉验证、留 P 组交叉验证、Group Shuffle Split==========================================\n",
        "X = [0.1, 0.2, 2.2, 2.4, 2.3, 4.55, 5.8, 8.8, 9, 10]\n",
        "y = [\"a\", \"b\", \"b\", \"b\", \"c\", \"c\", \"c\", \"d\", \"d\", \"d\"]\n",
        "groups = [1, 1, 1, 2, 2, 2, 3, 3, 3, 3]\n",
        "\n",
        "# k折分组\n",
        "gkf = GroupKFold(n_splits=3)  # 训练集和测试集属于不同的组\n",
        "for train, test in gkf.split(X, y, groups=groups):\n",
        "    print(\"组 k-fold分割：%s %s\" % (train, test))\n",
        "\n",
        "# 留一分组\n",
        "logo = LeaveOneGroupOut()\n",
        "for train, test in logo.split(X, y, groups=groups):\n",
        "    print(\"留一组分割：%s %s\" % (train, test))\n",
        "\n",
        "# 留p分组\n",
        "lpgo = LeavePGroupsOut(n_groups=2)\n",
        "for train, test in lpgo.split(X, y, groups=groups):\n",
        "    print(\"留 P 组分割：%s %s\" % (train, test))\n",
        "\n",
        "# 随机分组\n",
        "gss = GroupShuffleSplit(n_splits=4, test_size=0.5, random_state=0)\n",
        "for train, test in gss.split(X, y, groups=groups):\n",
        "    print(\"随机分割：%s %s\" % (train, test))"
      ],
      "metadata": {
        "colab": {
          "base_uri": "https://localhost:8080/"
        },
        "id": "pmLmvoHcFY5O",
        "outputId": "9e1ac178-a5c3-48cd-eb5a-f9f6a3180ae3"
      },
      "execution_count": 22,
      "outputs": [
        {
          "output_type": "stream",
          "name": "stdout",
          "text": [
            "组 k-fold分割：[0 1 2 3 4 5] [6 7 8 9]\n",
            "组 k-fold分割：[0 1 2 6 7 8 9] [3 4 5]\n",
            "组 k-fold分割：[3 4 5 6 7 8 9] [0 1 2]\n",
            "留一组分割：[3 4 5 6 7 8 9] [0 1 2]\n",
            "留一组分割：[0 1 2 6 7 8 9] [3 4 5]\n",
            "留一组分割：[0 1 2 3 4 5] [6 7 8 9]\n",
            "留 P 组分割：[6 7 8 9] [0 1 2 3 4 5]\n",
            "留 P 组分割：[3 4 5] [0 1 2 6 7 8 9]\n",
            "留 P 组分割：[0 1 2] [3 4 5 6 7 8 9]\n",
            "随机分割：[0 1 2] [3 4 5 6 7 8 9]\n",
            "随机分割：[3 4 5] [0 1 2 6 7 8 9]\n",
            "随机分割：[3 4 5] [0 1 2 6 7 8 9]\n",
            "随机分割：[3 4 5] [0 1 2 6 7 8 9]\n"
          ]
        }
      ]
    },
    {
      "cell_type": "code",
      "source": [
        "# ==================================时间序列分割==========================================\n",
        "tscv = TimeSeriesSplit(n_splits=3)\n",
        "TimeSeriesSplit(max_train_size=None, n_splits=3)\n",
        "for train, test in tscv.split(iris.data):\n",
        "    print(\"时间序列分割：%s %s\" % (train, test))"
      ],
      "metadata": {
        "colab": {
          "base_uri": "https://localhost:8080/"
        },
        "id": "kwJ3Q3S-GBg5",
        "outputId": "b869390f-b3cd-44e8-ea02-4892828e03a6"
      },
      "execution_count": 23,
      "outputs": [
        {
          "output_type": "stream",
          "name": "stdout",
          "text": [
            "时间序列分割：[ 0  1  2  3  4  5  6  7  8  9 10 11 12 13 14 15 16 17 18 19 20 21 22 23\n",
            " 24 25 26 27 28 29 30 31 32 33 34 35 36 37 38] [39 40 41 42 43 44 45 46 47 48 49 50 51 52 53 54 55 56 57 58 59 60 61 62\n",
            " 63 64 65 66 67 68 69 70 71 72 73 74 75]\n",
            "时间序列分割：[ 0  1  2  3  4  5  6  7  8  9 10 11 12 13 14 15 16 17 18 19 20 21 22 23\n",
            " 24 25 26 27 28 29 30 31 32 33 34 35 36 37 38 39 40 41 42 43 44 45 46 47\n",
            " 48 49 50 51 52 53 54 55 56 57 58 59 60 61 62 63 64 65 66 67 68 69 70 71\n",
            " 72 73 74 75] [ 76  77  78  79  80  81  82  83  84  85  86  87  88  89  90  91  92  93\n",
            "  94  95  96  97  98  99 100 101 102 103 104 105 106 107 108 109 110 111\n",
            " 112]\n",
            "时间序列分割：[  0   1   2   3   4   5   6   7   8   9  10  11  12  13  14  15  16  17\n",
            "  18  19  20  21  22  23  24  25  26  27  28  29  30  31  32  33  34  35\n",
            "  36  37  38  39  40  41  42  43  44  45  46  47  48  49  50  51  52  53\n",
            "  54  55  56  57  58  59  60  61  62  63  64  65  66  67  68  69  70  71\n",
            "  72  73  74  75  76  77  78  79  80  81  82  83  84  85  86  87  88  89\n",
            "  90  91  92  93  94  95  96  97  98  99 100 101 102 103 104 105 106 107\n",
            " 108 109 110 111 112] [113 114 115 116 117 118 119 120 121 122 123 124 125 126 127 128 129 130\n",
            " 131 132 133 134 135 136 137 138 139 140 141 142 143 144 145 146 147 148\n",
            " 149]\n"
          ]
        }
      ]
    },
    {
      "cell_type": "markdown",
      "source": [
        "网格搜索\n",
        "Grid Search：一种调参手段；穷举搜索：在所有候选的参数选择中，通过循环遍历，尝试每一种可能性，表现最好的参数就是最终的结果。其原理就像是在数组里找最大值。"
      ],
      "metadata": {
        "id": "xryKnenQGQEs"
      }
    },
    {
      "cell_type": "code",
      "source": [
        "from sklearn.datasets import load_iris\n",
        "from sklearn.svm import SVC\n",
        "from sklearn.model_selection import train_test_split\n",
        "\n",
        "iris = load_iris()\n",
        "X_train,X_test,y_train,y_test = train_test_split(iris.data,iris.target,random_state=0)\n",
        "print(\"Size of training set:{} size of testing set:{}\".format(X_train.shape[0],X_test.shape[0]))\n",
        "\n",
        "####   grid search start\n",
        "best_score = 0\n",
        "for gamma in [0.001,0.01,0.1,1,10,100]:\n",
        "    for C in [0.001,0.01,0.1,1,10,100]:\n",
        "        svm = SVC(gamma=gamma,C=C)#对于每种参数可能的组合，进行一次训练；\n",
        "        svm.fit(X_train,y_train)\n",
        "        score = svm.score(X_test,y_test)\n",
        "        if score > best_score:#找到表现最好的参数\n",
        "            best_score = score\n",
        "            best_parameters = {'gamma':gamma,'C':C}\n",
        "\n",
        "####   grid search end\n",
        "\n",
        "print(\"Best score in test:{:.2f}\".format(best_score))\n",
        "print(\"Best parameters:{}\".format(best_parameters))"
      ],
      "metadata": {
        "colab": {
          "base_uri": "https://localhost:8080/"
        },
        "id": "7KVVNM0LGLCO",
        "outputId": "67a2a15b-6cb2-42ab-dae5-1bf8e986144a"
      },
      "execution_count": 32,
      "outputs": [
        {
          "output_type": "stream",
          "name": "stdout",
          "text": [
            "Size of training set:112 size of testing set:38\n",
            "Best score in test:0.97\n",
            "Best parameters:{'gamma': 0.001, 'C': 100}\n"
          ]
        }
      ]
    },
    {
      "cell_type": "markdown",
      "source": [
        "Grid Search with Cross Validation"
      ],
      "metadata": {
        "id": "_QdVgAt9G8Rs"
      }
    },
    {
      "cell_type": "code",
      "source": [
        "X_trainval,X_test,y_trainval,y_test = train_test_split(iris.data,iris.target,random_state=0)\n",
        "X_train,X_val,y_train,y_val = train_test_split(X_trainval,y_trainval,random_state=1)\n",
        "print(\"Size of training set:{} size of validation set:{} size of testing set:{}\".format(X_train.shape[0],X_val.shape[0],X_test.shape[0]))\n",
        "\n",
        "best_score = 0.0\n",
        "for gamma in [0.001,0.01,0.1,1,10,100]:\n",
        "    for C in [0.001,0.01,0.1,1,10,100]:\n",
        "        svm = SVC(gamma=gamma,C=C)\n",
        "        svm.fit(X_train,y_train)\n",
        "        score = svm.score(X_val,y_val)\n",
        "        if score > best_score:\n",
        "            best_score = score\n",
        "            best_parameters = {'gamma':gamma,'C':C}\n",
        "svm = SVC(**best_parameters) #使用最佳参数，构建新的模型\n",
        "svm.fit(X_trainval,y_trainval) #使用训练集和验证集进行训练，more data always results in good performance.\n",
        "test_score = svm.score(X_test,y_test) # evaluation模型评估\n",
        "print(\"Best score on validation set:{:.2f}\".format(best_score))\n",
        "print(\"Best parameters:{}\".format(best_parameters))\n",
        "print(\"Best score on test set:{:.2f}\".format(test_score))"
      ],
      "metadata": {
        "colab": {
          "base_uri": "https://localhost:8080/"
        },
        "id": "qiX_4WWXG3YR",
        "outputId": "284c30c9-07af-4d3f-8582-372d78472e3b"
      },
      "execution_count": 31,
      "outputs": [
        {
          "output_type": "stream",
          "name": "stdout",
          "text": [
            "Size of training set:84 size of validation set:28 size of testing set:38\n",
            "Best score on validation set:0.96\n",
            "Best parameters:{'gamma': 0.001, 'C': 10}\n",
            "Best score on test set:0.92\n"
          ]
        }
      ]
    },
    {
      "cell_type": "code",
      "source": [
        "from sklearn.model_selection import cross_val_score\n",
        "\n",
        "best_score = 0.0\n",
        "for gamma in [0.001,0.01,0.1,1,10,100]:\n",
        "    for C in [0.001,0.01,0.1,1,10,100]:\n",
        "        svm = SVC(gamma=gamma,C=C)\n",
        "        scores = cross_val_score(svm,X_trainval,y_trainval,cv=5) #5折交叉验证\n",
        "        score = scores.mean() #取平均数\n",
        "        if score > best_score:\n",
        "            best_score = score\n",
        "            best_parameters = {\"gamma\":gamma,\"C\":C}\n",
        "svm = SVC(**best_parameters)\n",
        "svm.fit(X_trainval,y_trainval)\n",
        "test_score = svm.score(X_test,y_test)\n",
        "print(\"Best score on validation set:{:.2f}\".format(best_score))\n",
        "print(\"Best parameters:{}\".format(best_parameters))\n",
        "print(\"Score on testing set:{:.2f}\".format(test_score))"
      ],
      "metadata": {
        "colab": {
          "base_uri": "https://localhost:8080/"
        },
        "id": "-bu5al4qHhM5",
        "outputId": "f75f3c9d-473b-482e-a761-09a3792c1057"
      },
      "execution_count": 30,
      "outputs": [
        {
          "output_type": "stream",
          "name": "stdout",
          "text": [
            "Best score on validation set:0.97\n",
            "Best parameters:{'gamma': 0.1, 'C': 10}\n",
            "Score on testing set:0.97\n"
          ]
        }
      ]
    },
    {
      "cell_type": "markdown",
      "source": [
        "交叉验证经常与网格搜索进行结合，作为参数评价的一种方法，这种方法叫做grid search with cross validation。sklearn因此设计了一个这样的类GridSearchCV，这个类实现了fit，predict，score等方法，被当做了一个estimator，使用fit方法，该过程中：（1）搜索到最佳参数；（2）实例化了一个最佳参数的estimator；"
      ],
      "metadata": {
        "id": "v8ywCKsMI9w5"
      }
    },
    {
      "cell_type": "code",
      "source": [
        "from sklearn.model_selection import GridSearchCV\n",
        "\n",
        "#把要调整的参数以及其候选值 列出来；\n",
        "param_grid = {\"gamma\":[0.001,0.01,0.1,1,10,100],\n",
        "             \"C\":[0.001,0.01,0.1,1,10,100]}\n",
        "print(\"Parameters:{}\".format(param_grid))\n",
        "\n",
        "grid_search = GridSearchCV(SVC(),param_grid,cv=5) #实例化一个GridSearchCV类\n",
        "X_train,X_test,y_train,y_test = train_test_split(iris.data,iris.target,random_state=10)\n",
        "grid_search.fit(X_train,y_train) #训练，找到最优的参数，同时使用最优的参数实例化一个新的SVC estimator。\n",
        "print(\"Test set score:{:.2f}\".format(grid_search.score(X_test,y_test)))\n",
        "print(\"Best parameters:{}\".format(grid_search.best_params_))\n",
        "print(\"Best score on train set:{:.2f}\".format(grid_search.best_score_))"
      ],
      "metadata": {
        "colab": {
          "base_uri": "https://localhost:8080/"
        },
        "id": "U0yBMNtfIsI_",
        "outputId": "7e9956d8-b5f0-44ba-e71b-1adee6d76829"
      },
      "execution_count": 33,
      "outputs": [
        {
          "output_type": "stream",
          "name": "stdout",
          "text": [
            "Parameters:{'gamma': [0.001, 0.01, 0.1, 1, 10, 100], 'C': [0.001, 0.01, 0.1, 1, 10, 100]}\n",
            "Test set score:0.97\n",
            "Best parameters:{'C': 10, 'gamma': 0.1}\n",
            "Best score on train set:0.98\n"
          ]
        }
      ]
    },
    {
      "cell_type": "code",
      "source": [
        "import numpy as np\n",
        "import matplotlib.pyplot as plt\n",
        "\n",
        "from sklearn.naive_bayes import GaussianNB\n",
        "from sklearn.svm import SVC\n",
        "\n",
        "from sklearn.datasets import load_digits\n",
        "from sklearn.model_selection import learning_curve\n",
        "from sklearn.model_selection import ShuffleSplit"
      ],
      "metadata": {
        "id": "9W5fQRA-JS2_"
      },
      "execution_count": 34,
      "outputs": []
    },
    {
      "cell_type": "code",
      "source": [
        "def plot_learning_curve(estimator, title, X, y, ylim=None, cv=None,\n",
        "                        n_jobs=1, train_sizes=np.linspace(.1, 1.0, 5)):\n",
        "    plt.figure()\n",
        "    plt.title(title)\n",
        "    if ylim is not None:\n",
        "        plt.ylim(*ylim)\n",
        "    plt.xlabel(\"Training examples\")\n",
        "    plt.ylabel(\"Score\")\n",
        "    train_sizes, train_scores, test_scores = learning_curve(\n",
        "        estimator, X, y, cv=cv, n_jobs=n_jobs, train_sizes=train_sizes)\n",
        "    \n",
        "    train_scores_mean = np.mean(train_scores, axis=1)\n",
        "    train_scores_std = np.std(train_scores, axis=1)\n",
        "\n",
        "    test_scores_mean = np.mean(test_scores, axis=1)\n",
        "    test_scores_std = np.std(test_scores, axis=1)\n",
        "    plt.grid()\n",
        "\n",
        "    plt.fill_between(train_sizes, train_scores_mean - train_scores_std,\n",
        "                     train_scores_mean + train_scores_std, alpha=0.1,\n",
        "                     color=\"r\")\n",
        "    plt.fill_between(train_sizes, test_scores_mean - test_scores_std,\n",
        "                     test_scores_mean + test_scores_std, alpha=0.1, color=\"g\")\n",
        "    \n",
        "    plt.plot(train_sizes, train_scores_mean, 'o-', color=\"r\",\n",
        "             label=\"Training score\")\n",
        "    plt.plot(train_sizes, test_scores_mean, 'o-', color=\"g\",\n",
        "             label=\"Cross-validation score\")\n",
        "\n",
        "    plt.legend(loc=\"best\")\n",
        "    return plt "
      ],
      "metadata": {
        "id": "prxiaAsTJaJC"
      },
      "execution_count": 35,
      "outputs": []
    },
    {
      "cell_type": "code",
      "source": [
        "digits = load_digits()\n",
        "X, y = digits.data, digits.target\n",
        "\n",
        "\n",
        "title = \"Learning Curves (Naive Bayes)\"\n",
        "# Cross validation with 100 iterations to get smoother mean test and train\n",
        "# score curves, each time with 20% data randomly selected as a validation set.\n",
        "cv = ShuffleSplit(n_splits=100, test_size=0.2, random_state=0)\n",
        "\n",
        "estimator = GaussianNB()\n",
        "plot_learning_curve(estimator, title, X, y, ylim=(0.7, 1.01), cv=cv, n_jobs=4)"
      ],
      "metadata": {
        "colab": {
          "base_uri": "https://localhost:8080/",
          "height": 313
        },
        "id": "t5Y-QkTzJmOv",
        "outputId": "24ba0a45-59f2-4740-8348-906b504557ce"
      },
      "execution_count": 36,
      "outputs": [
        {
          "output_type": "execute_result",
          "data": {
            "text/plain": [
              "<module 'matplotlib.pyplot' from '/usr/local/lib/python3.7/dist-packages/matplotlib/pyplot.py'>"
            ]
          },
          "metadata": {},
          "execution_count": 36
        },
        {
          "output_type": "display_data",
          "data": {
            "text/plain": [
              "<Figure size 432x288 with 1 Axes>"
            ],
            "image/png": "[encoded data removed]"
          },
          "metadata": {
            "needs_background": "light"
          }
        }
      ]
    },
    {
      "cell_type": "code",
      "source": [
        "title = \"Learning Curves (SVM, RBF kernel, $\\gamma=0.001$)\"\n",
        "# SVC is more expensive so we do a lower number of CV iterations:\n",
        "cv = ShuffleSplit(n_splits=10, test_size=0.2, random_state=0)\n",
        "\n",
        "estimator = SVC(gamma=0.001)\n",
        "plot_learning_curve(estimator, title, X, y, (0.7, 1.01), cv=cv, n_jobs=4)"
      ],
      "metadata": {
        "colab": {
          "base_uri": "https://localhost:8080/",
          "height": 315
        },
        "id": "H_D0uJ9kJwm_",
        "outputId": "34981da3-7bca-4776-a744-3b11078ac58a"
      },
      "execution_count": 37,
      "outputs": [
        {
          "output_type": "execute_result",
          "data": {
            "text/plain": [
              "<module 'matplotlib.pyplot' from '/usr/local/lib/python3.7/dist-packages/matplotlib/pyplot.py'>"
            ]
          },
          "metadata": {},
          "execution_count": 37
        },
        {
          "output_type": "display_data",
          "data": {
            "text/plain": [
              "<Figure size 432x288 with 1 Axes>"
            ],
            "image/png": "[encoded data removed]"
          },
          "metadata": {
            "needs_background": "light"
          }
        }
      ]
    },
    {
      "cell_type": "code",
      "source": [
        "import matplotlib.pyplot as plt\n",
        "import numpy as np\n",
        "from sklearn.datasets import load_digits\n",
        "from sklearn.svm import SVC\n",
        "from sklearn.model_selection import validation_curve\n",
        "\n",
        "digits = load_digits()\n",
        "X, y = digits.data, digits.target\n",
        "\n",
        "param_range = np.logspace(-6, -1, 5)\n",
        "\n",
        "train_scores, test_scores = validation_curve(\n",
        "    SVC(), X, y, param_name=\"gamma\", param_range=param_range,\n",
        "    cv=10, scoring=\"accuracy\", n_jobs=1)\n",
        "\n",
        "train_scores_mean = np.mean(train_scores, axis=1)\n",
        "train_scores_std = np.std(train_scores, axis=1)\n",
        "\n",
        "test_scores_mean = np.mean(test_scores, axis=1)\n",
        "test_scores_std = np.std(test_scores, axis=1)\n",
        "\n",
        "plt.title(\"Validation Curve with SVM\")\n",
        "plt.xlabel(\"$\\gamma$\")\n",
        "plt.ylabel(\"Score\")\n",
        "plt.ylim(0.0, 1.1)\n",
        "\n",
        "\n",
        "plt.semilogx(param_range, train_scores_mean, label=\"Training score\", color=\"r\")\n",
        "plt.fill_between(param_range, train_scores_mean - train_scores_std,\n",
        "                 train_scores_mean + train_scores_std, alpha=0.2, color=\"r\")\n",
        "\n",
        "plt.semilogx(param_range, test_scores_mean, label=\"Cross-validation score\",\n",
        "             color=\"g\")\n",
        "plt.fill_between(param_range, test_scores_mean - test_scores_std,\n",
        "                 test_scores_mean + test_scores_std, alpha=0.2, color=\"g\")\n",
        "plt.legend(loc=\"best\")\n",
        "plt.show()"
      ],
      "metadata": {
        "colab": {
          "base_uri": "https://localhost:8080/",
          "height": 301
        },
        "id": "MtsJyc0VJ-7q",
        "outputId": "170d6746-3f02-428a-eded-fc879a6902de"
      },
      "execution_count": 38,
      "outputs": [
        {
          "output_type": "display_data",
          "data": {
            "text/plain": [
              "<Figure size 432x288 with 1 Axes>"
            ],
            "image/png": "[encoded data removed]"
          },
          "metadata": {
            "needs_background": "light"
          }
        }
      ]
    },
    {
      "cell_type": "markdown",
      "source": [
        "工业蒸汽赛题模型验证"
      ],
      "metadata": {
        "id": "C1hqVehQKd9g"
      }
    },
    {
      "cell_type": "code",
      "source": [
        "import numpy as np\n",
        "import pandas as pd\n",
        "import matplotlib.pyplot as plt\n",
        "import seaborn as sns\n",
        "\n",
        "from scipy import stats\n",
        "\n",
        "import warnings\n",
        "warnings.filterwarnings(\"ignore\")\n",
        "\n",
        "from sklearn.linear_model import LinearRegression  #线性回归\n",
        "from sklearn.neighbors import KNeighborsRegressor  #K近邻回归\n",
        "from sklearn.tree import DecisionTreeRegressor     #决策树回归\n",
        "from sklearn.ensemble import RandomForestRegressor #随机森林回归\n",
        "from sklearn.svm import SVR  #支持向量回归\n",
        "import lightgbm as lgb #lightGbm模型\n",
        "\n",
        "from sklearn.model_selection import train_test_split # 切分数据\n",
        "from sklearn.metrics import mean_squared_error #评价指标\n",
        "\n",
        "from sklearn.linear_model import SGDRegressor"
      ],
      "metadata": {
        "id": "OeS7AWkiKdGy"
      },
      "execution_count": 40,
      "outputs": []
    },
    {
      "cell_type": "code",
      "source": [
        "train_data_file = \"zhengqi_train.txt\"\n",
        "test_data_file =  \"zhengqi_test.txt\"\n",
        "\n",
        "train_data = pd.read_csv(train_data_file, sep='\\t', encoding='utf-8')\n",
        "test_data = pd.read_csv(test_data_file, sep='\\t', encoding='utf-8')"
      ],
      "metadata": {
        "id": "Ft44tnO_Kk8_"
      },
      "execution_count": 54,
      "outputs": []
    },
    {
      "cell_type": "markdown",
      "source": [
        "最大最小值归一化"
      ],
      "metadata": {
        "id": "ht4NMCQSKtbH"
      }
    },
    {
      "cell_type": "code",
      "source": [
        "from sklearn import preprocessing \n",
        "\n",
        "features_columns = [col for col in train_data.columns if col not in ['target']]\n",
        "\n",
        "min_max_scaler = preprocessing.MinMaxScaler()\n",
        "\n",
        "min_max_scaler = min_max_scaler.fit(train_data[features_columns])\n",
        "\n",
        "train_data_scaler = min_max_scaler.transform(train_data[features_columns])\n",
        "test_data_scaler = min_max_scaler.transform(test_data[features_columns])\n",
        "\n",
        "train_data_scaler = pd.DataFrame(train_data_scaler)\n",
        "train_data_scaler.columns = features_columns\n",
        "\n",
        "test_data_scaler = pd.DataFrame(test_data_scaler)\n",
        "test_data_scaler.columns = features_columns\n",
        "\n",
        "train_data_scaler['target'] = train_data['target']\n",
        "\n",
        "train_data_scaler.describe()"
      ],
      "metadata": {
        "colab": {
          "base_uri": "https://localhost:8080/",
          "height": 394
        },
        "id": "0KS1EREEKqDR",
        "outputId": "e89c456a-5537-4f9e-aad4-3343ef8f8b6b"
      },
      "execution_count": 56,
      "outputs": [
        {
          "output_type": "execute_result",
          "data": {
            "text/plain": [
              "                V0           V1           V2           V3           V4  \\\n",
              "count  2888.000000  2888.000000  2888.000000  2888.000000  2888.000000   \n",
              "mean      0.690528     0.735521     0.593745     0.606301     0.639876   \n",
              "std       0.143747     0.133738     0.145844     0.151302     0.119550   \n",
              "min       0.000000     0.000000     0.000000     0.000000     0.000000   \n",
              "25%       0.625465     0.695419     0.497279     0.515165     0.586328   \n",
              "50%       0.727076     0.766264     0.609155     0.609933     0.652940   \n",
              "75%       0.783922     0.812642     0.694342     0.714174     0.712185   \n",
              "max       1.000000     1.000000     1.000000     1.000000     1.000000   \n",
              "\n",
              "                V5           V6           V7           V8           V9  ...  \\\n",
              "count  2888.000000  2888.000000  2888.000000  2888.000000  2888.000000  ...   \n",
              "mean      0.607801     0.735418     0.741337     0.702012     0.894246  ...   \n",
              "std       0.193919     0.141872     0.137111     0.129082     0.067047  ...   \n",
              "min       0.000000     0.000000     0.000000     0.000000     0.000000  ...   \n",
              "25%       0.497566     0.659249     0.682314     0.653453     0.878743  ...   \n",
              "50%       0.642456     0.767115     0.774045     0.728557     0.909110  ...   \n",
              "75%       0.759266     0.835613     0.836958     0.781029     0.909110  ...   \n",
              "max       1.000000     1.000000     1.000000     1.000000     1.000000  ...   \n",
              "\n",
              "               V29          V30          V31          V32          V33  \\\n",
              "count  2888.000000  2888.000000  2888.000000  2888.000000  2888.000000   \n",
              "mean      0.401715     0.634030     0.760517     0.631794     0.459255   \n",
              "std       0.141644     0.125338     0.110903     0.139979     0.099782   \n",
              "min       0.000000     0.000000     0.000000     0.000000     0.000000   \n",
              "25%       0.300053     0.586993     0.722656     0.565408     0.409037   \n",
              "50%       0.385611     0.633755     0.782330     0.634615     0.454518   \n",
              "75%       0.488154     0.694136     0.824949     0.714950     0.504261   \n",
              "max       1.000000     1.000000     1.000000     1.000000     1.000000   \n",
              "\n",
              "               V34          V35          V36          V37       target  \n",
              "count  2888.000000  2888.000000  2888.000000  2888.000000  2888.000000  \n",
              "mean      0.484465     0.734850     0.336306     0.527854     0.126353  \n",
              "std       0.101353     0.122917     0.123733     0.153423     0.983966  \n",
              "min       0.000000     0.000000     0.000000     0.000000    -3.044000  \n",
              "25%       0.454490     0.684936     0.279760     0.427112    -0.350250  \n",
              "50%       0.499949     0.755580     0.349860     0.519532     0.313000  \n",
              "75%       0.511365     0.785260     0.414511     0.622210     0.793250  \n",
              "max       1.000000     1.000000     1.000000     1.000000     2.538000  \n",
              "\n",
              "[8 rows x 39 columns]"
            ],
            "text/html": [
              "\n",
              "  <div id=\"df-45868a00-75e2-4bcd-9120-928873e12956\">\n",
              "    <div class=\"colab-df-container\">\n",
              "      <div>\n",
              "<style scoped>\n",
              "    .dataframe tbody tr th:only-of-type {\n",
              "        vertical-align: middle;\n",
              "    }\n",
              "\n",
              "    .dataframe tbody tr th {\n",
              "        vertical-align: top;\n",
              "    }\n",
              "\n",
              "    .dataframe thead th {\n",
              "        text-align: right;\n",
              "    }\n",
              "</style>\n",
              "<table border=\"1\" class=\"dataframe\">\n",
              "  <thead>\n",
              "    <tr style=\"text-align: right;\">\n",
              "      <th></th>\n",
              "      <th>V0</th>\n",
              "      <th>V1</th>\n",
              "      <th>V2</th>\n",
              "      <th>V3</th>\n",
              "      <th>V4</th>\n",
              "      <th>V5</th>\n",
              "      <th>V6</th>\n",
              "      <th>V7</th>\n",
              "      <th>V8</th>\n",
              "      <th>V9</th>\n",
              "      <th>...</th>\n",
              "      <th>V29</th>\n",
              "      <th>V30</th>\n",
              "      <th>V31</th>\n",
              "      <th>V32</th>\n",
              "      <th>V33</th>\n",
              "      <th>V34</th>\n",
              "      <th>V35</th>\n",
              "      <th>V36</th>\n",
              "      <th>V37</th>\n",
              "      <th>target</th>\n",
              "    </tr>\n",
              "  </thead>\n",
              "  <tbody>\n",
              "    <tr>\n",
              "      <th>count</th>\n",
              "      <td>2888.000000</td>\n",
              "      <td>2888.000000</td>\n",
              "      <td>2888.000000</td>\n",
              "      <td>2888.000000</td>\n",
              "      <td>2888.000000</td>\n",
              "      <td>2888.000000</td>\n",
              "      <td>2888.000000</td>\n",
              "      <td>2888.000000</td>\n",
              "      <td>2888.000000</td>\n",
              "      <td>2888.000000</td>\n",
              "      <td>...</td>\n",
              "      <td>2888.000000</td>\n",
              "      <td>2888.000000</td>\n",
              "      <td>2888.000000</td>\n",
              "      <td>2888.000000</td>\n",
              "      <td>2888.000000</td>\n",
              "      <td>2888.000000</td>\n",
              "      <td>2888.000000</td>\n",
              "      <td>2888.000000</td>\n",
              "      <td>2888.000000</td>\n",
              "      <td>2888.000000</td>\n",
              "    </tr>\n",
              "    <tr>\n",
              "      <th>mean</th>\n",
              "      <td>0.690528</td>\n",
              "      <td>0.735521</td>\n",
              "      <td>0.593745</td>\n",
              "      <td>0.606301</td>\n",
              "      <td>0.639876</td>\n",
              "      <td>0.607801</td>\n",
              "      <td>0.735418</td>\n",
              "      <td>0.741337</td>\n",
              "      <td>0.702012</td>\n",
              "      <td>0.894246</td>\n",
              "      <td>...</td>\n",
              "      <td>0.401715</td>\n",
              "      <td>0.634030</td>\n",
              "      <td>0.760517</td>\n",
              "      <td>0.631794</td>\n",
              "      <td>0.459255</td>\n",
              "      <td>0.484465</td>\n",
              "      <td>0.734850</td>\n",
              "      <td>0.336306</td>\n",
              "      <td>0.527854</td>\n",
              "      <td>0.126353</td>\n",
              "    </tr>\n",
              "    <tr>\n",
              "      <th>std</th>\n",
              "      <td>0.143747</td>\n",
              "      <td>0.133738</td>\n",
              "      <td>0.145844</td>\n",
              "      <td>0.151302</td>\n",
              "      <td>0.119550</td>\n",
              "      <td>0.193919</td>\n",
              "      <td>0.141872</td>\n",
              "      <td>0.137111</td>\n",
              "      <td>0.129082</td>\n",
              "      <td>0.067047</td>\n",
              "      <td>...</td>\n",
              "      <td>0.141644</td>\n",
              "      <td>0.125338</td>\n",
              "      <td>0.110903</td>\n",
              "      <td>0.139979</td>\n",
              "      <td>0.099782</td>\n",
              "      <td>0.101353</td>\n",
              "      <td>0.122917</td>\n",
              "      <td>0.123733</td>\n",
              "      <td>0.153423</td>\n",
              "      <td>0.983966</td>\n",
              "    </tr>\n",
              "    <tr>\n",
              "      <th>min</th>\n",
              "      <td>0.000000</td>\n",
              "      <td>0.000000</td>\n",
              "      <td>0.000000</td>\n",
              "      <td>0.000000</td>\n",
              "      <td>0.000000</td>\n",
              "      <td>0.000000</td>\n",
              "      <td>0.000000</td>\n",
              "      <td>0.000000</td>\n",
              "      <td>0.000000</td>\n",
              "      <td>0.000000</td>\n",
              "      <td>...</td>\n",
              "      <td>0.000000</td>\n",
              "      <td>0.000000</td>\n",
              "      <td>0.000000</td>\n",
              "      <td>0.000000</td>\n",
              "      <td>0.000000</td>\n",
              "      <td>0.000000</td>\n",
              "      <td>0.000000</td>\n",
              "      <td>0.000000</td>\n",
              "      <td>0.000000</td>\n",
              "      <td>-3.044000</td>\n",
              "    </tr>\n",
              "    <tr>\n",
              "      <th>25%</th>\n",
              "      <td>0.625465</td>\n",
              "      <td>0.695419</td>\n",
              "      <td>0.497279</td>\n",
              "      <td>0.515165</td>\n",
              "      <td>0.586328</td>\n",
              "      <td>0.497566</td>\n",
              "      <td>0.659249</td>\n",
              "      <td>0.682314</td>\n",
              "      <td>0.653453</td>\n",
              "      <td>0.878743</td>\n",
              "      <td>...</td>\n",
              "      <td>0.300053</td>\n",
              "      <td>0.586993</td>\n",
              "      <td>0.722656</td>\n",
              "      <td>0.565408</td>\n",
              "      <td>0.409037</td>\n",
              "      <td>0.454490</td>\n",
              "      <td>0.684936</td>\n",
              "      <td>0.279760</td>\n",
              "      <td>0.427112</td>\n",
              "      <td>-0.350250</td>\n",
              "    </tr>\n",
              "    <tr>\n",
              "      <th>50%</th>\n",
              "      <td>0.727076</td>\n",
              "      <td>0.766264</td>\n",
              "      <td>0.609155</td>\n",
              "      <td>0.609933</td>\n",
              "      <td>0.652940</td>\n",
              "      <td>0.642456</td>\n",
              "      <td>0.767115</td>\n",
              "      <td>0.774045</td>\n",
              "      <td>0.728557</td>\n",
              "      <td>0.909110</td>\n",
              "      <td>...</td>\n",
              "      <td>0.385611</td>\n",
              "      <td>0.633755</td>\n",
              "      <td>0.782330</td>\n",
              "      <td>0.634615</td>\n",
              "      <td>0.454518</td>\n",
              "      <td>0.499949</td>\n",
              "      <td>0.755580</td>\n",
              "      <td>0.349860</td>\n",
              "      <td>0.519532</td>\n",
              "      <td>0.313000</td>\n",
              "    </tr>\n",
              "    <tr>\n",
              "      <th>75%</th>\n",
              "      <td>0.783922</td>\n",
              "      <td>0.812642</td>\n",
              "      <td>0.694342</td>\n",
              "      <td>0.714174</td>\n",
              "      <td>0.712185</td>\n",
              "      <td>0.759266</td>\n",
              "      <td>0.835613</td>\n",
              "      <td>0.836958</td>\n",
              "      <td>0.781029</td>\n",
              "      <td>0.909110</td>\n",
              "      <td>...</td>\n",
              "      <td>0.488154</td>\n",
              "      <td>0.694136</td>\n",
              "      <td>0.824949</td>\n",
              "      <td>0.714950</td>\n",
              "      <td>0.504261</td>\n",
              "      <td>0.511365</td>\n",
              "      <td>0.785260</td>\n",
              "      <td>0.414511</td>\n",
              "      <td>0.622210</td>\n",
              "      <td>0.793250</td>\n",
              "    </tr>\n",
              "    <tr>\n",
              "      <th>max</th>\n",
              "      <td>1.000000</td>\n",
              "      <td>1.000000</td>\n",
              "      <td>1.000000</td>\n",
              "      <td>1.000000</td>\n",
              "      <td>1.000000</td>\n",
              "      <td>1.000000</td>\n",
              "      <td>1.000000</td>\n",
              "      <td>1.000000</td>\n",
              "      <td>1.000000</td>\n",
              "      <td>1.000000</td>\n",
              "      <td>...</td>\n",
              "      <td>1.000000</td>\n",
              "      <td>1.000000</td>\n",
              "      <td>1.000000</td>\n",
              "      <td>1.000000</td>\n",
              "      <td>1.000000</td>\n",
              "      <td>1.000000</td>\n",
              "      <td>1.000000</td>\n",
              "      <td>1.000000</td>\n",
              "      <td>1.000000</td>\n",
              "      <td>2.538000</td>\n",
              "    </tr>\n",
              "  </tbody>\n",
              "</table>\n",
              "<p>8 rows × 39 columns</p>\n",
              "</div>\n",
              "      <button class=\"colab-df-convert\" onclick=\"convertToInteractive('df-45868a00-75e2-4bcd-9120-928873e12956')\"\n",
              "              title=\"Convert this dataframe to an interactive table.\"\n",
              "              style=\"display:none;\">\n",
              "        \n",
              "  <svg xmlns=\"http://www.w3.org/2000/svg\" height=\"24px\"viewBox=\"0 0 24 24\"\n",
              "       width=\"24px\">\n",
              "    <path d=\"M0 0h24v24H0V0z\" fill=\"none\"/>\n",
              "    <path d=\"M18.56 5.44l.94 2.06.94-2.06 2.06-.94-2.06-.94-.94-2.06-.94 2.06-2.06.94zm-11 1L8.5 8.5l.94-2.06 2.06-.94-2.06-.94L8.5 2.5l-.94 2.06-2.06.94zm10 10l.94 2.06.94-2.06 2.06-.94-2.06-.94-.94-2.06-.94 2.06-2.06.94z\"/><path d=\"M17.41 7.96l-1.37-1.37c-.4-.4-.92-.59-1.43-.59-.52 0-1.04.2-1.43.59L10.3 9.45l-7.72 7.72c-.78.78-.78 2.05 0 2.83L4 21.41c.39.39.9.59 1.41.59.51 0 1.02-.2 1.41-.59l7.78-7.78 2.81-2.81c.8-.78.8-2.07 0-2.86zM5.41 20L4 18.59l7.72-7.72 1.47 1.35L5.41 20z\"/>\n",
              "  </svg>\n",
              "      </button>\n",
              "      \n",
              "  <style>\n",
              "    .colab-df-container {\n",
              "      display:flex;\n",
              "      flex-wrap:wrap;\n",
              "      gap: 12px;\n",
              "    }\n",
              "\n",
              "    .colab-df-convert {\n",
              "      background-color: #E8F0FE;\n",
              "      border: none;\n",
              "      border-radius: 50%;\n",
              "      cursor: pointer;\n",
              "      display: none;\n",
              "      fill: #1967D2;\n",
              "      height: 32px;\n",
              "      padding: 0 0 0 0;\n",
              "      width: 32px;\n",
              "    }\n",
              "\n",
              "    .colab-df-convert:hover {\n",
              "      background-color: #E2EBFA;\n",
              "      box-shadow: 0px 1px 2px rgba(60, 64, 67, 0.3), 0px 1px 3px 1px rgba(60, 64, 67, 0.15);\n",
              "      fill: #174EA6;\n",
              "    }\n",
              "\n",
              "    [theme=dark] .colab-df-convert {\n",
              "      background-color: #3B4455;\n",
              "      fill: #D2E3FC;\n",
              "    }\n",
              "\n",
              "    [theme=dark] .colab-df-convert:hover {\n",
              "      background-color: #434B5C;\n",
              "      box-shadow: 0px 1px 3px 1px rgba(0, 0, 0, 0.15);\n",
              "      filter: drop-shadow(0px 1px 2px rgba(0, 0, 0, 0.3));\n",
              "      fill: #FFFFFF;\n",
              "    }\n",
              "  </style>\n",
              "\n",
              "      <script>\n",
              "        const buttonEl =\n",
              "          document.querySelector('#df-45868a00-75e2-4bcd-9120-928873e12956 button.colab-df-convert');\n",
              "        buttonEl.style.display =\n",
              "          google.colab.kernel.accessAllowed ? 'block' : 'none';\n",
              "\n",
              "        async function convertToInteractive(key) {\n",
              "          const element = document.querySelector('#df-45868a00-75e2-4bcd-9120-928873e12956');\n",
              "          const dataTable =\n",
              "            await google.colab.kernel.invokeFunction('convertToInteractive',\n",
              "                                                     [key], {});\n",
              "          if (!dataTable) return;\n",
              "\n",
              "          const docLinkHtml = 'Like what you see? Visit the ' +\n",
              "            '<a target=\"_blank\" href=https://colab.research.google.com/notebooks/data_table.ipynb>data table notebook</a>'\n",
              "            + ' to learn more about interactive tables.';\n",
              "          element.innerHTML = '';\n",
              "          dataTable['output_type'] = 'display_data';\n",
              "          await google.colab.output.renderOutput(dataTable, element);\n",
              "          const docLink = document.createElement('div');\n",
              "          docLink.innerHTML = docLinkHtml;\n",
              "          element.appendChild(docLink);\n",
              "        }\n",
              "      </script>\n",
              "    </div>\n",
              "  </div>\n",
              "  "
            ]
          },
          "metadata": {},
          "execution_count": 56
        }
      ]
    },
    {
      "cell_type": "code",
      "source": [
        "from sklearn.decomposition import PCA   #主成分分析法\n",
        "\n",
        "#PCA方法降维\n",
        "#保留16个主成分\n",
        "pca = PCA(n_components=16)\n",
        "\n",
        "new_train_pca_16 = pca.fit_transform(train_data_scaler.iloc[:,0:-1])\n",
        "new_test_pca_16 = pca.transform(test_data_scaler)\n",
        "\n",
        "new_train_pca_16 = pd.DataFrame(new_train_pca_16)\n",
        "new_test_pca_16 = pd.DataFrame(new_test_pca_16)\n",
        "\n",
        "new_train_pca_16['target'] = train_data_scaler['target']\n"
      ],
      "metadata": {
        "id": "EH7ZiPDHKyB7"
      },
      "execution_count": 58,
      "outputs": []
    },
    {
      "cell_type": "code",
      "source": [
        "#采用 pca 保留16维特征的数据\n",
        "new_train_pca_16 = new_train_pca_16.fillna(0)\n",
        "train = new_train_pca_16[new_test_pca_16.columns]\n",
        "target = new_train_pca_16['target']\n",
        "\n",
        "# 切分数据 训练数据80% 验证数据20%\n",
        "train_data,test_data,train_target,test_target=train_test_split(train,target,test_size=0.2,random_state=0)"
      ],
      "metadata": {
        "id": "FyDM4CGyLUU5"
      },
      "execution_count": 59,
      "outputs": []
    },
    {
      "cell_type": "code",
      "source": [
        "clf = SGDRegressor(max_iter=500, tol=1e-2) \n",
        "clf.fit(train_data, train_target)\n",
        "\n",
        "score_train = mean_squared_error(train_target, clf.predict(train_data))\n",
        "score_test = mean_squared_error(test_target, clf.predict(test_data))\n",
        "print(\"SGDRegressor train MSE:   \", score_train)\n",
        "print(\"SGDRegressor test MSE:   \", score_test)"
      ],
      "metadata": {
        "colab": {
          "base_uri": "https://localhost:8080/"
        },
        "id": "0OCM9s6dL_BW",
        "outputId": "0682b10b-f816-43f1-e931-de8fa753495e"
      },
      "execution_count": 60,
      "outputs": [
        {
          "output_type": "stream",
          "name": "stdout",
          "text": [
            "SGDRegressor train MSE:    0.15162871754782378\n",
            "SGDRegressor test MSE:    0.15601038062327532\n"
          ]
        }
      ]
    },
    {
      "cell_type": "code",
      "source": [
        "from sklearn.preprocessing import PolynomialFeatures\n",
        "poly = PolynomialFeatures(5)\n",
        "train_data_poly = poly.fit_transform(train_data)\n",
        "test_data_poly = poly.transform(test_data)\n",
        "clf = SGDRegressor(max_iter=1000, tol=1e-3) \n",
        "clf.fit(train_data_poly, train_target)\n",
        "score_train = mean_squared_error(train_target, clf.predict(train_data_poly))\n",
        "score_test = mean_squared_error(test_target, clf.predict(test_data_poly))\n",
        "print(\"SGDRegressor train MSE:   \", score_train)\n",
        "print(\"SGDRegressor test MSE:   \", score_test)"
      ],
      "metadata": {
        "colab": {
          "base_uri": "https://localhost:8080/"
        },
        "id": "HrIE1nlVNJdK",
        "outputId": "232d2aab-bdef-4a3e-a0d0-54c448b02e83"
      },
      "execution_count": 61,
      "outputs": [
        {
          "output_type": "stream",
          "name": "stdout",
          "text": [
            "SGDRegressor train MSE:    0.13246903746879438\n",
            "SGDRegressor test MSE:    0.14470499675957924\n"
          ]
        }
      ]
    },
    {
      "cell_type": "code",
      "source": [
        "from sklearn.preprocessing import PolynomialFeatures\n",
        "poly = PolynomialFeatures(3)\n",
        "train_data_poly = poly.fit_transform(train_data)\n",
        "test_data_poly = poly.transform(test_data)\n",
        "\n",
        "clf = SGDRegressor(max_iter=1000, tol=1e-3) \n",
        "clf.fit(train_data_poly, train_target)\n",
        "score_train = mean_squared_error(train_target, clf.predict(train_data_poly))\n",
        "score_test = mean_squared_error(test_target, clf.predict(test_data_poly))\n",
        "print(\"SGDRegressor train MSE:   \", score_train)\n",
        "print(\"SGDRegressor test MSE:   \", score_test)"
      ],
      "metadata": {
        "colab": {
          "base_uri": "https://localhost:8080/"
        },
        "id": "7jB2HGXFNgNR",
        "outputId": "3aea2f0c-c7f3-4b27-f164-cf6fc87b3110"
      },
      "execution_count": 62,
      "outputs": [
        {
          "output_type": "stream",
          "name": "stdout",
          "text": [
            "SGDRegressor train MSE:    0.13491235991337908\n",
            "SGDRegressor test MSE:    0.14319209847333594\n"
          ]
        }
      ]
    },
    {
      "cell_type": "markdown",
      "source": [
        "模型正则化\n",
        "L2范数正则化"
      ],
      "metadata": {
        "id": "YDH-hXovNqdI"
      }
    },
    {
      "cell_type": "code",
      "source": [
        "poly = PolynomialFeatures(3)\n",
        "train_data_poly = poly.fit_transform(train_data)\n",
        "test_data_poly = poly.transform(test_data)\n",
        "\n",
        "clf = SGDRegressor(max_iter=1000, tol=1e-3, penalty= 'L2', alpha=0.0001) \n",
        "clf.fit(train_data_poly, train_target)\n",
        "score_train = mean_squared_error(train_target, clf.predict(train_data_poly))\n",
        "score_test = mean_squared_error(test_target, clf.predict(test_data_poly))\n",
        "print(\"SGDRegressor train MSE:   \", score_train)\n",
        "print(\"SGDRegressor test MSE:   \", score_test)"
      ],
      "metadata": {
        "colab": {
          "base_uri": "https://localhost:8080/"
        },
        "id": "Gu0QnA_HNlpp",
        "outputId": "a0349bf9-742c-49e2-8a89-aab47b5e6784"
      },
      "execution_count": 63,
      "outputs": [
        {
          "output_type": "stream",
          "name": "stdout",
          "text": [
            "SGDRegressor train MSE:    0.1344954277939309\n",
            "SGDRegressor test MSE:    0.14330445364806024\n"
          ]
        }
      ]
    },
    {
      "cell_type": "markdown",
      "source": [
        "L1范数正则化"
      ],
      "metadata": {
        "id": "y_QerJF8NzZL"
      }
    },
    {
      "cell_type": "code",
      "source": [
        "poly = PolynomialFeatures(3)\n",
        "train_data_poly = poly.fit_transform(train_data)\n",
        "test_data_poly = poly.transform(test_data)\n",
        "clf = SGDRegressor(max_iter=1000, tol=1e-3, penalty= 'L1', alpha=0.00001) \n",
        "clf.fit(train_data_poly, train_target)\n",
        "score_train = mean_squared_error(train_target, clf.predict(train_data_poly))\n",
        "score_test = mean_squared_error(test_target, clf.predict(test_data_poly))\n",
        "print(\"SGDRegressor train MSE:   \", score_train)\n",
        "print(\"SGDRegressor test MSE:   \", score_test)"
      ],
      "metadata": {
        "colab": {
          "base_uri": "https://localhost:8080/"
        },
        "id": "jfPzbQiNNyuP",
        "outputId": "455c157f-93c7-4ec5-b0e9-3dedb4ef8353"
      },
      "execution_count": 64,
      "outputs": [
        {
          "output_type": "stream",
          "name": "stdout",
          "text": [
            "SGDRegressor train MSE:    0.13418557970537578\n",
            "SGDRegressor test MSE:    0.142444015304683\n"
          ]
        }
      ]
    },
    {
      "cell_type": "markdown",
      "source": [
        "ElasticNet L1和L2范数加权正则化"
      ],
      "metadata": {
        "id": "KkLQtTs-N4lR"
      }
    },
    {
      "cell_type": "code",
      "source": [
        "poly = PolynomialFeatures(3)\n",
        "train_data_poly = poly.fit_transform(train_data)\n",
        "test_data_poly = poly.transform(test_data)\n",
        "\n",
        "clf = SGDRegressor(max_iter=1000, tol=1e-3, penalty= 'elasticnet', l1_ratio=0.9, alpha=0.00001) \n",
        "clf.fit(train_data_poly, train_target)\n",
        "score_train = mean_squared_error(train_target, clf.predict(train_data_poly))\n",
        "score_test = mean_squared_error(test_target, clf.predict(test_data_poly))\n",
        "print(\"SGDRegressor train MSE:   \", score_train)\n",
        "print(\"SGDRegressor test MSE:   \", score_test)"
      ],
      "metadata": {
        "colab": {
          "base_uri": "https://localhost:8080/"
        },
        "id": "U4tg0iE2N2-x",
        "outputId": "cf57ab43-4d36-4fa8-e749-08121d546347"
      },
      "execution_count": 65,
      "outputs": [
        {
          "output_type": "stream",
          "name": "stdout",
          "text": [
            "SGDRegressor train MSE:    0.13419250248982076\n",
            "SGDRegressor test MSE:    0.14243552299271467\n"
          ]
        }
      ]
    },
    {
      "cell_type": "markdown",
      "source": [
        "模型交叉验证\n",
        "简单交叉验证 Hold-out-menthod"
      ],
      "metadata": {
        "id": "xlz-uNDsOAY7"
      }
    },
    {
      "cell_type": "code",
      "source": [
        "# 简单交叉验证\n",
        "from sklearn.model_selection import train_test_split # 切分数据\n",
        "# 切分数据 训练数据80% 验证数据20%\n",
        "train_data,test_data,train_target,test_target=train_test_split(train,target,test_size=0.2,random_state=0)\n",
        "\n",
        "clf = SGDRegressor(max_iter=1000, tol=1e-3) \n",
        "clf.fit(train_data, train_target)\n",
        "\n",
        "score_train = mean_squared_error(train_target, clf.predict(train_data))\n",
        "score_test = mean_squared_error(test_target, clf.predict(test_data))\n",
        "print(\"SGDRegressor train MSE:   \", score_train)\n",
        "print(\"SGDRegressor test MSE:   \", score_test)"
      ],
      "metadata": {
        "colab": {
          "base_uri": "https://localhost:8080/"
        },
        "id": "bVAn8ILIN9ly",
        "outputId": "898ce82e-2043-46ad-d0e5-28ed3907c033"
      },
      "execution_count": 66,
      "outputs": [
        {
          "output_type": "stream",
          "name": "stdout",
          "text": [
            "SGDRegressor train MSE:    0.1414487788916855\n",
            "SGDRegressor test MSE:    0.14689975599623584\n"
          ]
        }
      ]
    },
    {
      "cell_type": "markdown",
      "source": [
        "K折交叉验证 K-fold CV"
      ],
      "metadata": {
        "id": "BZRUUs9-OUVw"
      }
    },
    {
      "cell_type": "code",
      "source": [
        "# 5折交叉验证\n",
        "from sklearn.model_selection import KFold\n",
        "\n",
        "kf = KFold(n_splits=5)\n",
        "for k, (train_index, test_index) in enumerate(kf.split(train)):\n",
        "    train_data,test_data,train_target,test_target = train.values[train_index],train.values[test_index],target[train_index],target[test_index]\n",
        "\n",
        "    clf = SGDRegressor(max_iter=1000, tol=1e-3) \n",
        "    clf.fit(train_data, train_target)\n",
        "\n",
        "    score_train = mean_squared_error(train_target, clf.predict(train_data))\n",
        "    score_test = mean_squared_error(test_target, clf.predict(test_data))\n",
        "    \n",
        "    print(k, \" 折\", \"SGDRegressor train MSE:   \", score_train)\n",
        "    print(k, \" 折\", \"SGDRegressor test MSE:   \", score_test, '\\n')  "
      ],
      "metadata": {
        "colab": {
          "base_uri": "https://localhost:8080/"
        },
        "id": "6QsYtcBXOS2I",
        "outputId": "5d49bc2a-9266-46d9-c3fd-46dff9aaae98"
      },
      "execution_count": 67,
      "outputs": [
        {
          "output_type": "stream",
          "name": "stdout",
          "text": [
            "0  折 SGDRegressor train MSE:    0.1499211749528539\n",
            "0  折 SGDRegressor test MSE:    0.10602798290540522 \n",
            "\n",
            "1  折 SGDRegressor train MSE:    0.133488989543788\n",
            "1  折 SGDRegressor test MSE:    0.18224083212052805 \n",
            "\n",
            "2  折 SGDRegressor train MSE:    0.14654238111087745\n",
            "2  折 SGDRegressor test MSE:    0.13305889850842045 \n",
            "\n",
            "3  折 SGDRegressor train MSE:    0.14073434841908847\n",
            "3  折 SGDRegressor test MSE:    0.16301391276577665 \n",
            "\n",
            "4  折 SGDRegressor train MSE:    0.13808170473414497\n",
            "4  折 SGDRegressor test MSE:    0.16526812261604137 \n",
            "\n"
          ]
        }
      ]
    },
    {
      "cell_type": "markdown",
      "source": [
        "留一法 LOO CV"
      ],
      "metadata": {
        "id": "yqDrM-UHOkdo"
      }
    },
    {
      "cell_type": "code",
      "source": [
        "from sklearn.model_selection import LeaveOneOut\n",
        "loo = LeaveOneOut()\n",
        "num = 100\n",
        "for k, (train_index, test_index) in enumerate(loo.split(train)):\n",
        "    train_data,test_data,train_target,test_target = train.values[train_index],train.values[test_index],target[train_index],target[test_index]\n",
        "\n",
        "    clf = SGDRegressor(max_iter=1000, tol=1e-3) \n",
        "    clf.fit(train_data, train_target)\n",
        "\n",
        "    score_train = mean_squared_error(train_target, clf.predict(train_data))\n",
        "    score_test = mean_squared_error(test_target, clf.predict(test_data))\n",
        "    \n",
        "    print(k, \" 个\", \"SGDRegressor train MSE:   \", score_train)\n",
        "    print(k, \" 个\", \"SGDRegressor test MSE:   \", score_test, '\\n') \n",
        "    if k >= 9:\n",
        "        break"
      ],
      "metadata": {
        "colab": {
          "base_uri": "https://localhost:8080/"
        },
        "id": "hANcnaqNOjnA",
        "outputId": "f526a6ec-0461-48cb-bf69-d3f5b6776cd1"
      },
      "execution_count": 68,
      "outputs": [
        {
          "output_type": "stream",
          "name": "stdout",
          "text": [
            "0  个 SGDRegressor train MSE:    0.14147977599344574\n",
            "0  个 SGDRegressor test MSE:    0.009958341616401372 \n",
            "\n",
            "1  个 SGDRegressor train MSE:    0.14159102936617443\n",
            "1  个 SGDRegressor test MSE:    0.12966687985613382 \n",
            "\n",
            "2  个 SGDRegressor train MSE:    0.14160155053709908\n",
            "2  个 SGDRegressor test MSE:    0.0378544058839803 \n",
            "\n",
            "3  个 SGDRegressor train MSE:    0.1415718303219305\n",
            "3  个 SGDRegressor test MSE:    0.0038840267243163296 \n",
            "\n",
            "4  个 SGDRegressor train MSE:    0.14155829591726374\n",
            "4  个 SGDRegressor test MSE:    0.011818681024073638 \n",
            "\n",
            "5  个 SGDRegressor train MSE:    0.14158027584710145\n",
            "5  个 SGDRegressor test MSE:    0.1334961011844746 \n",
            "\n",
            "6  个 SGDRegressor train MSE:    0.14157262881327964\n",
            "6  个 SGDRegressor test MSE:    0.025461731943949514 \n",
            "\n",
            "7  个 SGDRegressor train MSE:    0.14148382546540236\n",
            "7  个 SGDRegressor test MSE:    0.0008484552332537578 \n",
            "\n",
            "8  个 SGDRegressor train MSE:    0.1416826572939505\n",
            "8  个 SGDRegressor test MSE:    0.08554314045328101 \n",
            "\n",
            "9  个 SGDRegressor train MSE:    0.14153017569386042\n",
            "9  个 SGDRegressor test MSE:    0.05200474697621913 \n",
            "\n"
          ]
        }
      ]
    },
    {
      "cell_type": "markdown",
      "source": [
        "留P法 LPO CV"
      ],
      "metadata": {
        "id": "E6U5sybEO5qy"
      }
    },
    {
      "cell_type": "code",
      "source": [
        "from sklearn.model_selection import LeavePOut\n",
        "lpo = LeavePOut(p=10)\n",
        "num = 100\n",
        "for k, (train_index, test_index) in enumerate(lpo.split(train)):\n",
        "    train_data,test_data,train_target,test_target = train.values[train_index],train.values[test_index],target[train_index],target[test_index]\n",
        "\n",
        "    clf = SGDRegressor(max_iter=1000, tol=1e-3) \n",
        "    clf.fit(train_data, train_target)\n",
        "\n",
        "    score_train = mean_squared_error(train_target, clf.predict(train_data))\n",
        "    score_test = mean_squared_error(test_target, clf.predict(test_data))\n",
        "    \n",
        "    print(k, \" 10个\", \"SGDRegressor train MSE:   \", score_train)\n",
        "    print(k, \" 10个\", \"SGDRegressor test MSE:   \", score_test, '\\n') \n",
        "\n",
        "    if k >= 9:\n",
        "        break"
      ],
      "metadata": {
        "colab": {
          "base_uri": "https://localhost:8080/"
        },
        "id": "zwsI1zZuOqri",
        "outputId": "f3693ee5-7d84-4c63-ce76-5d0c932aecb6"
      },
      "execution_count": 69,
      "outputs": [
        {
          "output_type": "stream",
          "name": "stdout",
          "text": [
            "0  10个 SGDRegressor train MSE:    0.14193656341765892\n",
            "0  10个 SGDRegressor test MSE:    0.0491949953258245 \n",
            "\n",
            "1  10个 SGDRegressor train MSE:    0.1418934503146866\n",
            "1  10个 SGDRegressor test MSE:    0.0442319664495908 \n",
            "\n",
            "2  10个 SGDRegressor train MSE:    0.1419011071744886\n",
            "2  10个 SGDRegressor test MSE:    0.04583514975226512 \n",
            "\n",
            "3  10个 SGDRegressor train MSE:    0.1419146797906345\n",
            "3  10个 SGDRegressor test MSE:    0.054086866563302236 \n",
            "\n",
            "4  10个 SGDRegressor train MSE:    0.14177825877652944\n",
            "4  10个 SGDRegressor test MSE:    0.06895590656439113 \n",
            "\n",
            "5  10个 SGDRegressor train MSE:    0.14197435018506066\n",
            "5  10个 SGDRegressor test MSE:    0.0452333036909738 \n",
            "\n",
            "6  10个 SGDRegressor train MSE:    0.14207641966537937\n",
            "6  10个 SGDRegressor test MSE:    0.049490770005327187 \n",
            "\n",
            "7  10个 SGDRegressor train MSE:    0.142004752531616\n",
            "7  10个 SGDRegressor test MSE:    0.053790681716950485 \n",
            "\n",
            "8  10个 SGDRegressor train MSE:    0.1419232238944895\n",
            "8  10个 SGDRegressor test MSE:    0.04731840971169537 \n",
            "\n",
            "9  10个 SGDRegressor train MSE:    0.14196608119057874\n",
            "9  10个 SGDRegressor test MSE:    0.04526264735930582 \n",
            "\n"
          ]
        }
      ]
    },
    {
      "cell_type": "markdown",
      "source": [
        "模型超参空间及调参\n",
        "穷举网格搜索"
      ],
      "metadata": {
        "id": "V5BZBPvXPE04"
      }
    },
    {
      "cell_type": "code",
      "source": [
        "from sklearn.model_selection import GridSearchCV\n",
        "from sklearn.ensemble import RandomForestRegressor\n",
        "from sklearn.model_selection import train_test_split # 切分数据\n",
        "# 切分数据 训练数据80% 验证数据20%\n",
        "train_data,test_data,train_target,test_target=train_test_split(train,target,test_size=0.2,random_state=0)\n",
        "\n",
        "randomForestRegressor = RandomForestRegressor()\n",
        "\n",
        "parameters = {\n",
        "              'n_estimators':[50, 100, 200],\n",
        "              'max_depth':[1, 2, 3]\n",
        "        }\n",
        "\n",
        "\n",
        "clf = GridSearchCV(randomForestRegressor, parameters, cv=5)\n",
        "\n",
        "clf.fit(train_data, train_target)\n",
        "\n",
        "score_test = mean_squared_error(test_target, clf.predict(test_data))\n",
        "\n",
        "print(\"RandomForestRegressor GridSearchCV test MSE:   \", score_test)\n",
        "#sorted(clf.cv_results_.keys())"
      ],
      "metadata": {
        "colab": {
          "base_uri": "https://localhost:8080/"
        },
        "id": "wW-bbR5DPCHC",
        "outputId": "fa579794-c8d3-4b06-9d61-3fe4bc06e6ec"
      },
      "execution_count": 71,
      "outputs": [
        {
          "output_type": "stream",
          "name": "stdout",
          "text": [
            "RandomForestRegressor GridSearchCV test MSE:    0.254392215696403\n"
          ]
        }
      ]
    },
    {
      "cell_type": "markdown",
      "source": [
        "随机参数优化"
      ],
      "metadata": {
        "id": "JqAzqCv-PpDx"
      }
    },
    {
      "cell_type": "code",
      "source": [
        "from sklearn.model_selection import RandomizedSearchCV\n",
        "from sklearn.ensemble import RandomForestRegressor\n",
        "from sklearn.model_selection import train_test_split # 切分数据\n",
        "# 切分数据 训练数据80% 验证数据20%\n",
        "train_data,test_data,train_target,test_target=train_test_split(train,target,test_size=0.2,random_state=0)\n",
        "\n",
        "randomForestRegressor = RandomForestRegressor()\n",
        "\n",
        "parameters = {\n",
        "              'n_estimators':[50, 100, 200, 300],\n",
        "              'max_depth':[1, 2, 3, 4, 5]\n",
        "        }\n",
        "\n",
        "\n",
        "clf = RandomizedSearchCV(randomForestRegressor, parameters, cv=5)\n",
        "clf.fit(train_data, train_target)\n",
        "\n",
        "score_test = mean_squared_error(test_target, clf.predict(test_data))\n",
        "\n",
        "print(\"RandomForestRegressor RandomizedSearchCV test MSE:   \", score_test)\n",
        "sorted(clf.cv_results_.keys())"
      ],
      "metadata": {
        "colab": {
          "base_uri": "https://localhost:8080/"
        },
        "id": "AKvOcBsVPoS8",
        "outputId": "e96a90e6-9a18-4fb3-f43f-182c85d1259d"
      },
      "execution_count": 72,
      "outputs": [
        {
          "output_type": "stream",
          "name": "stdout",
          "text": [
            "RandomForestRegressor RandomizedSearchCV test MSE:    0.19636179953003607\n"
          ]
        },
        {
          "output_type": "execute_result",
          "data": {
            "text/plain": [
              "['mean_fit_time',\n",
              " 'mean_score_time',\n",
              " 'mean_test_score',\n",
              " 'param_max_depth',\n",
              " 'param_n_estimators',\n",
              " 'params',\n",
              " 'rank_test_score',\n",
              " 'split0_test_score',\n",
              " 'split1_test_score',\n",
              " 'split2_test_score',\n",
              " 'split3_test_score',\n",
              " 'split4_test_score',\n",
              " 'std_fit_time',\n",
              " 'std_score_time',\n",
              " 'std_test_score']"
            ]
          },
          "metadata": {},
          "execution_count": 72
        }
      ]
    },
    {
      "cell_type": "markdown",
      "source": [
        "Lgb 调参"
      ],
      "metadata": {
        "id": "c1YRYxIRQC6D"
      }
    },
    {
      "cell_type": "code",
      "source": [
        "clf = lgb.LGBMRegressor(num_leaves=31)\n",
        "\n",
        "parameters = {\n",
        "    'learning_rate': [0.01, 0.1, 1],\n",
        "    'n_estimators': [20, 40]\n",
        "}\n",
        "\n",
        "clf = GridSearchCV(clf, parameters, cv=5)\n",
        "clf.fit(train_data, train_target)\n",
        "\n",
        "print('Best parameters found by grid search are:', clf.best_params_)\n",
        "\n",
        "score_test = mean_squared_error(test_target, clf.predict(test_data))\n",
        "\n",
        "print(\"LGBMRegressor RandomizedSearchCV test MSE:   \", score_test)"
      ],
      "metadata": {
        "colab": {
          "base_uri": "https://localhost:8080/"
        },
        "id": "U9HLhPMJP-oJ",
        "outputId": "47918e85-eb05-446d-f3ed-a4d12f6525ac"
      },
      "execution_count": 78,
      "outputs": [
        {
          "output_type": "stream",
          "name": "stdout",
          "text": [
            "Best parameters found by grid search are: {'learning_rate': 0.1, 'n_estimators': 40}\n",
            "LGBMRegressor RandomizedSearchCV test MSE:    0.15123642979858049\n"
          ]
        }
      ]
    },
    {
      "cell_type": "code",
      "source": [
        "train_data2 = pd.read_csv('zhengqi_train.txt',sep='\\t')\n",
        "test_data2 = pd.read_csv('zhengqi_test.txt',sep='\\t')\n",
        "\n",
        "train_data2_f = train_data2[test_data2.columns].values\n",
        "train_data2_target = train_data2['target'].values"
      ],
      "metadata": {
        "id": "qtiR4ygxQQdy"
      },
      "execution_count": 79,
      "outputs": []
    },
    {
      "cell_type": "code",
      "source": [
        "# lgb 模型\n",
        "from sklearn.model_selection import KFold\n",
        "import lightgbm as lgb\n",
        "import numpy as np\n",
        "\n",
        "\n",
        "# 5折交叉验证\n",
        "Folds=5\n",
        "kf = KFold(len(train_data2_f), n_splits=5, random_state=100, shuffle=True)\n",
        "# 记录训练和预测MSE\n",
        "MSE_DICT = {\n",
        "    'train_mse':[],\n",
        "    'test_mse':[]\n",
        "}\n",
        "\n",
        "# 线下训练预测\n",
        "for i, (train_index, test_index) in enumerate(kf.split(train_data2_f)):\n",
        "    # lgb树模型\n",
        "    lgb_reg = lgb.LGBMRegressor(\n",
        "        learning_rate=0.01,\n",
        "        max_depth=-1,\n",
        "        n_estimators=100,\n",
        "        boosting_type='gbdt',\n",
        "        random_state=100,\n",
        "        objective='regression',\n",
        "    )\n",
        "   \n",
        "    # 切分训练集和预测集\n",
        "    X_train_KFold, X_test_KFold = train_data2_f[train_index], train_data2_f[test_index]\n",
        "    y_train_KFold, y_test_KFold = train_data2_target[train_index], train_data2_target[test_index]\n",
        "    \n",
        "    # 训练模型\n",
        "#     reg.fit(X_train_KFold, y_train_KFold)\n",
        "    lgb_reg.fit(\n",
        "            X=X_train_KFold,y=y_train_KFold,\n",
        "            eval_set=[(X_train_KFold, y_train_KFold),(X_test_KFold, y_test_KFold)],\n",
        "            eval_names=['Train','Test'],\n",
        "            early_stopping_rounds=100,\n",
        "            eval_metric='MSE',\n",
        "            verbose=50\n",
        "        )\n",
        "\n",
        "\n",
        "    # 训练集预测 测试集预测\n",
        "    y_train_KFold_predict = lgb_reg.predict(X_train_KFold,num_iteration=lgb_reg.best_iteration_)\n",
        "    y_test_KFold_predict = lgb_reg.predict(X_test_KFold,num_iteration=lgb_reg.best_iteration_) \n",
        "    \n",
        "    print('第{}折 训练和预测 训练MSE 预测MSE'.format(i))\n",
        "    train_mse = mean_squared_error(y_train_KFold_predict, y_train_KFold)\n",
        "    print('------\\n', '训练MSE\\n', train_mse, '\\n------')\n",
        "    test_mse = mean_squared_error(y_test_KFold_predict, y_test_KFold)\n",
        "    print('------\\n', '预测MSE\\n', test_mse, '\\n------\\n')\n",
        "    \n",
        "    MSE_DICT['train_mse'].append(train_mse)\n",
        "    MSE_DICT['test_mse'].append(test_mse)\n",
        "print('------\\n', '训练MSE\\n', MSE_DICT['train_mse'], '\\n', np.mean(MSE_DICT['train_mse']), '\\n------')\n",
        "print('------\\n', '预测MSE\\n', MSE_DICT['test_mse'], '\\n', np.mean(MSE_DICT['test_mse']), '\\n------')"
      ],
      "metadata": {
        "colab": {
          "base_uri": "https://localhost:8080/",
          "height": 249
        },
        "id": "v5nM74aiQbQV",
        "outputId": "b2cb98a5-d708-45da-e35f-6d3dbdf6b29e"
      },
      "execution_count": 83,
      "outputs": [
        {
          "output_type": "error",
          "ename": "TypeError",
          "evalue": "ignored",
          "traceback": [
            "\u001b[0;31m---------------------------------------------------------------------------\u001b[0m",
            "\u001b[0;31mTypeError\u001b[0m                                 Traceback (most recent call last)",
            "\u001b[0;32m<ipython-input-83-51a8bdef3bae>\u001b[0m in \u001b[0;36m<module>\u001b[0;34m()\u001b[0m\n\u001b[1;32m      7\u001b[0m \u001b[0;31m# 5折交叉验证\u001b[0m\u001b[0;34m\u001b[0m\u001b[0;34m\u001b[0m\u001b[0;34m\u001b[0m\u001b[0m\n\u001b[1;32m      8\u001b[0m \u001b[0mFolds\u001b[0m\u001b[0;34m=\u001b[0m\u001b[0;36m5\u001b[0m\u001b[0;34m\u001b[0m\u001b[0;34m\u001b[0m\u001b[0m\n\u001b[0;32m----> 9\u001b[0;31m \u001b[0mkf\u001b[0m \u001b[0;34m=\u001b[0m \u001b[0mKFold\u001b[0m\u001b[0;34m(\u001b[0m\u001b[0mlen\u001b[0m\u001b[0;34m(\u001b[0m\u001b[0mtrain_data2_f\u001b[0m\u001b[0;34m)\u001b[0m\u001b[0;34m,\u001b[0m \u001b[0mn_splits\u001b[0m\u001b[0;34m=\u001b[0m\u001b[0;36m5\u001b[0m\u001b[0;34m,\u001b[0m \u001b[0mrandom_state\u001b[0m\u001b[0;34m=\u001b[0m\u001b[0;36m100\u001b[0m\u001b[0;34m,\u001b[0m \u001b[0mshuffle\u001b[0m\u001b[0;34m=\u001b[0m\u001b[0;32mTrue\u001b[0m\u001b[0;34m)\u001b[0m\u001b[0;34m\u001b[0m\u001b[0;34m\u001b[0m\u001b[0m\n\u001b[0m\u001b[1;32m     10\u001b[0m \u001b[0;31m# 记录训练和预测MSE\u001b[0m\u001b[0;34m\u001b[0m\u001b[0;34m\u001b[0m\u001b[0;34m\u001b[0m\u001b[0m\n\u001b[1;32m     11\u001b[0m MSE_DICT = {\n",
            "\u001b[0;31mTypeError\u001b[0m: __init__() got multiple values for argument 'n_splits'"
          ]
        }
      ]
    },
    {
      "cell_type": "code",
      "source": [
        "print(__doc__)\n",
        "import numpy as np\n",
        "import matplotlib.pyplot as plt\n",
        "from sklearn import model_selection \n",
        "from sklearn.linear_model import SGDRegressor\n",
        "from sklearn.model_selection import learning_curve\n",
        "\n",
        "\n",
        "def plot_learning_curve(estimator, title, X, y, ylim=None, cv=None,\n",
        "                        n_jobs=1, train_sizes=np.linspace(.1, 1.0, 5)):\n",
        "    \n",
        "    plt.figure()\n",
        "    plt.title(title)\n",
        "    if ylim is not None:\n",
        "        plt.ylim(*ylim)\n",
        "    plt.xlabel(\"Training examples\")\n",
        "    plt.ylabel(\"Score\")\n",
        "    train_sizes, train_scores, test_scores = learning_curve(\n",
        "        estimator, X, y, cv=cv, n_jobs=n_jobs, train_sizes=train_sizes)\n",
        "    train_scores_mean = np.mean(train_scores, axis=1)\n",
        "    train_scores_std = np.std(train_scores, axis=1)\n",
        "    test_scores_mean = np.mean(test_scores, axis=1)\n",
        "    test_scores_std = np.std(test_scores, axis=1)\n",
        "    plt.grid()\n",
        "\n",
        "    plt.fill_between(train_sizes, train_scores_mean - train_scores_std,\n",
        "                     train_scores_mean + train_scores_std, alpha=0.1,\n",
        "                     color=\"r\")\n",
        "    plt.fill_between(train_sizes, test_scores_mean - test_scores_std,\n",
        "                     test_scores_mean + test_scores_std, alpha=0.1, color=\"g\")\n",
        "    plt.plot(train_sizes, train_scores_mean, 'o-', color=\"r\",\n",
        "             label=\"Training score\")\n",
        "    plt.plot(train_sizes, test_scores_mean, 'o-', color=\"g\",\n",
        "             label=\"Cross-validation score\")\n",
        "\n",
        "    plt.legend(loc=\"best\")\n",
        "    return plt\n",
        "\n",
        "\n",
        "X = train_data2[test_data2.columns].values\n",
        "y = train_data2['target'].values\n",
        "\n",
        "\n",
        "title = \"LinearRegression\"\n",
        "# Cross validation with 100 iterations to get smoother mean test and train\n",
        "# score curves, each time with 20% data randomly selected as a validation set.\n",
        "cv = model_selection.ShuffleSplit(X.shape[0], n_splits=100,test_size=0.2, random_state=0)\n",
        "\n",
        "estimator = SGDRegressor()\n",
        "plot_learning_curve(estimator, title, X, y, ylim=(0.7, 1.01), cv=cv, n_jobs=-1)\n"
      ],
      "metadata": {
        "colab": {
          "base_uri": "https://localhost:8080/",
          "height": 267
        },
        "id": "NgnosFtkRehj",
        "outputId": "b4dd5d35-8a69-4da1-ecea-559c15eddbac"
      },
      "execution_count": 86,
      "outputs": [
        {
          "output_type": "stream",
          "name": "stdout",
          "text": [
            "Automatically created module for IPython interactive environment\n"
          ]
        },
        {
          "output_type": "error",
          "ename": "TypeError",
          "evalue": "ignored",
          "traceback": [
            "\u001b[0;31m---------------------------------------------------------------------------\u001b[0m",
            "\u001b[0;31mTypeError\u001b[0m                                 Traceback (most recent call last)",
            "\u001b[0;32m<ipython-input-86-4e94079038be>\u001b[0m in \u001b[0;36m<module>\u001b[0;34m()\u001b[0m\n\u001b[1;32m     45\u001b[0m \u001b[0;31m# Cross validation with 100 iterations to get smoother mean test and train\u001b[0m\u001b[0;34m\u001b[0m\u001b[0;34m\u001b[0m\u001b[0;34m\u001b[0m\u001b[0m\n\u001b[1;32m     46\u001b[0m \u001b[0;31m# score curves, each time with 20% data randomly selected as a validation set.\u001b[0m\u001b[0;34m\u001b[0m\u001b[0;34m\u001b[0m\u001b[0;34m\u001b[0m\u001b[0m\n\u001b[0;32m---> 47\u001b[0;31m \u001b[0mcv\u001b[0m \u001b[0;34m=\u001b[0m \u001b[0mmodel_selection\u001b[0m\u001b[0;34m.\u001b[0m\u001b[0mShuffleSplit\u001b[0m\u001b[0;34m(\u001b[0m\u001b[0mX\u001b[0m\u001b[0;34m.\u001b[0m\u001b[0mshape\u001b[0m\u001b[0;34m[\u001b[0m\u001b[0;36m0\u001b[0m\u001b[0;34m]\u001b[0m\u001b[0;34m,\u001b[0m \u001b[0mn_splits\u001b[0m\u001b[0;34m=\u001b[0m\u001b[0;36m100\u001b[0m\u001b[0;34m,\u001b[0m\u001b[0mtest_size\u001b[0m\u001b[0;34m=\u001b[0m\u001b[0;36m0.2\u001b[0m\u001b[0;34m,\u001b[0m \u001b[0mrandom_state\u001b[0m\u001b[0;34m=\u001b[0m\u001b[0;36m0\u001b[0m\u001b[0;34m)\u001b[0m\u001b[0;34m\u001b[0m\u001b[0;34m\u001b[0m\u001b[0m\n\u001b[0m\u001b[1;32m     48\u001b[0m \u001b[0;34m\u001b[0m\u001b[0m\n\u001b[1;32m     49\u001b[0m \u001b[0mestimator\u001b[0m \u001b[0;34m=\u001b[0m \u001b[0mSGDRegressor\u001b[0m\u001b[0;34m(\u001b[0m\u001b[0;34m)\u001b[0m\u001b[0;34m\u001b[0m\u001b[0;34m\u001b[0m\u001b[0m\n",
            "\u001b[0;31mTypeError\u001b[0m: __init__() got multiple values for argument 'n_splits'"
          ]
        }
      ]
    },
    {
      "cell_type": "code",
      "source": [
        "print(__doc__)\n",
        "\n",
        "import matplotlib.pyplot as plt\n",
        "import numpy as np\n",
        "from sklearn.linear_model import SGDRegressor\n",
        "from sklearn.model_selection import validation_curve\n",
        "\n",
        "X = train_data2[test_data2.columns].values\n",
        "y = train_data2['target'].values\n",
        "# max_iter=1000, tol=1e-3, penalty= 'L1', alpha=0.00001\n",
        "\n",
        "param_range = [0.1, 0.01, 0.001, 0.0001, 0.00001, 0.000001]\n",
        "train_scores, test_scores = validation_curve(\n",
        "    SGDRegressor(max_iter=1000, tol=1e-3, penalty= 'L1'), X, y, param_name=\"alpha\", param_range=param_range,\n",
        "    cv=10, scoring='r2', n_jobs=1)\n",
        "\n",
        "train_scores_mean = np.mean(train_scores, axis=1)\n",
        "train_scores_std = np.std(train_scores, axis=1)\n",
        "\n",
        "test_scores_mean = np.mean(test_scores, axis=1)\n",
        "test_scores_std = np.std(test_scores, axis=1)\n",
        "\n",
        "plt.title(\"Validation Curve with SGDRegressor\")\n",
        "plt.xlabel(\"alpha\")\n",
        "plt.ylabel(\"Score\")\n",
        "plt.ylim(0.0, 1.1)\n",
        "\n",
        "plt.semilogx(param_range, train_scores_mean, label=\"Training score\", color=\"r\")\n",
        "plt.fill_between(param_range, train_scores_mean - train_scores_std,\n",
        "                 train_scores_mean + train_scores_std, alpha=0.2, color=\"r\")\n",
        "plt.semilogx(param_range, test_scores_mean, label=\"Cross-validation score\",\n",
        "             color=\"g\")\n",
        "plt.fill_between(param_range, test_scores_mean - test_scores_std,\n",
        "                 test_scores_mean + test_scores_std, alpha=0.2, color=\"g\")\n",
        "plt.legend(loc=\"best\")\n",
        "plt.show()"
      ],
      "metadata": {
        "colab": {
          "base_uri": "https://localhost:8080/",
          "height": 317
        },
        "id": "e1Uonv8pR_8a",
        "outputId": "489e3b3d-5c0b-44c6-9c09-1f343a538693"
      },
      "execution_count": 85,
      "outputs": [
        {
          "output_type": "stream",
          "name": "stdout",
          "text": [
            "Automatically created module for IPython interactive environment\n"
          ]
        },
        {
          "output_type": "display_data",
          "data": {
            "text/plain": [
              "<Figure size 432x288 with 1 Axes>"
            ],
            "image/png": "[encoded data removed]"
          },
          "metadata": {
            "needs_background": "light"
          }
        }
      ]
    },
    {
      "cell_type": "code",
      "source": [
        ""
      ],
      "metadata": {
        "id": "jJnH3nC3SXml"
      },
      "execution_count": null,
      "outputs": []
    }
  ]
}