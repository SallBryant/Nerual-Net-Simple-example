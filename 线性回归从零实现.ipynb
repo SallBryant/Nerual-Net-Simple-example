{
  "nbformat": 4,
  "nbformat_minor": 0,
  "metadata": {
    "colab": {
      "name": "线性回归从零实现",
      "provenance": [],
      "toc_visible": true,
      "authorship_tag": "ABX9TyMTat1LWGN3+ReKaNVe9SFJ",
      "include_colab_link": true
    },
    "kernelspec": {
      "name": "python3",
      "display_name": "Python 3"
    },
    "language_info": {
      "name": "python"
    }
  },
  "cells": [
    {
      "cell_type": "markdown",
      "metadata": {
        "id": "view-in-github",
        "colab_type": "text"
      },
      "source": [
        "<a href=\"https://colab.research.google.com/github/SallBryant/Nerual-Net-Simple-example/blob/main/%E7%BA%BF%E6%80%A7%E5%9B%9E%E5%BD%92%E4%BB%8E%E9%9B%B6%E5%AE%9E%E7%8E%B0.ipynb\" target=\"_parent\"><img src=\"https://colab.research.google.com/assets/colab-badge.svg\" alt=\"Open In Colab\"/></a>"
      ]
    },
    {
      "cell_type": "code",
      "execution_count": null,
      "metadata": {
        "id": "bNnkUcklmdWQ"
      },
      "outputs": [],
      "source": [
        "%matplotlib inline\n",
        "import torch\n",
        "from IPython import display\n",
        "from matplotlib import pyplot as plt\n",
        "import numpy as np\n",
        "import random\n",
        "\n",
        "\n",
        "num_inputs = 2\n",
        "num_examples = 1000\n",
        "true_w = [2, -3.4]\n",
        "true_b = 4.2\n",
        "features = torch.randn(num_examples, num_inputs,\n",
        "                       dtype=torch.float32)\n",
        "labels = true_w[0] * features[:, 0] + true_w[1] * features[:, 1] + true_b\n",
        "labels += torch.tensor(np.random.normal(0, 0.01, size=labels.size()),\n",
        "                       dtype=torch.float32)\n",
        "num_inputs = 2\n",
        "num_examples = 1000\n",
        "true_w = [2, -3.4]\n",
        "true_b = 4.2\n",
        "features = torch.randn(num_examples, num_inputs,\n",
        "                       dtype=torch.float32)\n",
        "labels = true_w[0] * features[:, 0] + true_w[1] * features[:, 1] + true_b\n",
        "labels += torch.tensor(np.random.normal(0, 0.01, size=labels.size()),\n",
        "                       dtype=torch.float32)\n",
        "\n",
        "def data_iter(batch_size, features, labels):\n",
        "    num_examples = len(features)\n",
        "    indices = list(range(num_examples))\n",
        "    random.shuffle(indices)  # 样本的读取顺序是随机的\n",
        "    for i in range(0, num_examples, batch_size):\n",
        "        j = torch.LongTensor(indices[i: min(i + batch_size, num_examples)]) # 最后一次可能不足一个batch\n",
        "        yield  features.index_select(0, j), labels.index_select(0, j)\n",
        "\n",
        "w = torch.tensor(np.random.normal(0, 0.01, (num_inputs, 1)), dtype=torch.float32)\n",
        "b = torch.zeros(1, dtype=torch.float32)\n",
        "w.requires_grad_(requires_grad=True)\n",
        "b.requires_grad_(requires_grad=True)\n",
        "\n",
        "def linreg(X, w, b):\n",
        "    return torch.mm(X, w) + b\n",
        "\n",
        "def squared_loss(y_hat, y):\n",
        "    # 注意这里返回的是向量, 另外, pytorch里的MSELoss并没有除以 2\n",
        "    return (y_hat - y.view(y_hat.size())) ** 2 / 2\n",
        "\n",
        "def sgd(params, lr, batch_size):  # 本函数已保存在d2lzh_pytorch包中方便以后使用\n",
        "    for param in params:\n",
        "        param.data -= lr * param.grad / batch_size # 注意这里更改param时用的param.data\n",
        "\n",
        "lr = 0.03\n",
        "num_epochs = 3\n",
        "net = linreg\n",
        "loss = squared_loss\n",
        "batch_size = 10\n",
        "prediction=[]\n",
        "for epoch in range(num_epochs):  # 训练模型一共需要num_epochs个迭代周期\n",
        "    # 在每一个迭代周期中，会使用训练数据集中所有样本一次（假设样本数能够被批量大小整除）。X\n",
        "    # 和y分别是小批量样本的特征和标签\n",
        "    for X, y in data_iter(batch_size, features, labels):\n",
        "        l = loss(net(X, w, b), y).sum()  # l是有关小批量X和y的损失\n",
        "        l.backward()  # 小批量的损失对模型参数求梯度\n",
        "        sgd([w, b], lr, batch_size)  # 使用小批量随机梯度下降迭代模型参数\n",
        "\n",
        "        # 不要忘了梯度清零\n",
        "        w.grad.data.zero_()\n",
        "        b.grad.data.zero_()\n",
        "        prediction.append(net(X,w,b).data.numpy())\n",
        "    train_l = loss(net(features, w, b), labels)\n",
        "    print('epoch %d, loss %f' % (epoch + 1, train_l.mean().item()))\n"
      ]
    }
  ]
}